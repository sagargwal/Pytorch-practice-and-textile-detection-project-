{
 "cells": [
  {
   "cell_type": "code",
   "execution_count": 1,
   "metadata": {},
   "outputs": [],
   "source": [
    "import torch "
   ]
  },
  {
   "cell_type": "code",
   "execution_count": 3,
   "metadata": {},
   "outputs": [
    {
     "data": {
      "text/plain": [
       "tensor([[[[0., 0.],\n",
       "          [0., 0.]],\n",
       "\n",
       "         [[0., 0.],\n",
       "          [0., 0.]]],\n",
       "\n",
       "\n",
       "        [[[0., 0.],\n",
       "          [0., 0.]],\n",
       "\n",
       "         [[0., 0.],\n",
       "          [0., 0.]]]])"
      ]
     },
     "execution_count": 3,
     "metadata": {},
     "output_type": "execute_result"
    }
   ],
   "source": [
    "x = torch.zeros(2,2,2,2)\n",
    "x"
   ]
  },
  {
   "cell_type": "code",
   "execution_count": 4,
   "metadata": {},
   "outputs": [
    {
     "data": {
      "text/plain": [
       "tensor([[0.4113, 0.2855],\n",
       "        [0.5292, 0.9019]])"
      ]
     },
     "execution_count": 4,
     "metadata": {},
     "output_type": "execute_result"
    }
   ],
   "source": [
    "x1 = torch.rand(2,2)\n",
    "x1"
   ]
  },
  {
   "cell_type": "code",
   "execution_count": 5,
   "metadata": {},
   "outputs": [
    {
     "name": "stdout",
     "output_type": "stream",
     "text": [
      "torch.FloatTensor\n"
     ]
    }
   ],
   "source": [
    "#  to know data type \n",
    "print(x1.type())"
   ]
  },
  {
   "cell_type": "code",
   "execution_count": 6,
   "metadata": {},
   "outputs": [],
   "source": [
    "# to change datatype\n",
    "x1 = torch.rand(2,2,dtype = torch.float16)"
   ]
  },
  {
   "cell_type": "code",
   "execution_count": 7,
   "metadata": {},
   "outputs": [
    {
     "data": {
      "text/plain": [
       "'torch.HalfTensor'"
      ]
     },
     "execution_count": 7,
     "metadata": {},
     "output_type": "execute_result"
    }
   ],
   "source": [
    "x1.type()"
   ]
  },
  {
   "cell_type": "code",
   "execution_count": null,
   "metadata": {},
   "outputs": [],
   "source": []
  },
  {
   "cell_type": "code",
   "execution_count": 9,
   "metadata": {
    "jp-MarkdownHeadingCollapsed": true
   },
   "outputs": [
    {
     "data": {
      "text/plain": [
       "tensor([[1.2000, 4.5000],\n",
       "        [1.2000, 8.9000]])"
      ]
     },
     "execution_count": 9,
     "metadata": {},
     "output_type": "execute_result"
    }
   ],
   "source": [
    "## creating tensor froma list \n",
    "x2 = torch.tensor([[1.2,4.5],[1.2,8.9]])\n",
    "x2"
   ]
  },
  {
   "cell_type": "code",
   "execution_count": 10,
   "metadata": {},
   "outputs": [
    {
     "data": {
      "text/plain": [
       "torch.Size([2, 2])"
      ]
     },
     "execution_count": 10,
     "metadata": {},
     "output_type": "execute_result"
    }
   ],
   "source": [
    "x2.size()"
   ]
  },
  {
   "cell_type": "code",
   "execution_count": null,
   "metadata": {},
   "outputs": [],
   "source": []
  },
  {
   "cell_type": "code",
   "execution_count": 11,
   "metadata": {},
   "outputs": [],
   "source": [
    "x3 = torch.tensor([1.2,4.5])"
   ]
  },
  {
   "cell_type": "code",
   "execution_count": 12,
   "metadata": {},
   "outputs": [
    {
     "data": {
      "text/plain": [
       "tensor([1.2000, 4.5000])"
      ]
     },
     "execution_count": 12,
     "metadata": {},
     "output_type": "execute_result"
    }
   ],
   "source": [
    "x3"
   ]
  },
  {
   "cell_type": "code",
   "execution_count": 13,
   "metadata": {},
   "outputs": [
    {
     "data": {
      "text/plain": [
       "(tensor([[0.3539, 0.4765],\n",
       "         [0.7220, 0.3016]]),\n",
       " tensor([[0.9845, 0.8872],\n",
       "         [0.6160, 0.2810]]))"
      ]
     },
     "execution_count": 13,
     "metadata": {},
     "output_type": "execute_result"
    }
   ],
   "source": [
    "# addition of tensors\n",
    "x = torch.rand(2,2)\n",
    "y = torch.rand(2,2)\n",
    "x,y"
   ]
  },
  {
   "cell_type": "code",
   "execution_count": 14,
   "metadata": {},
   "outputs": [
    {
     "data": {
      "text/plain": [
       "tensor([[1.3384, 1.3637],\n",
       "        [1.3380, 0.5825]])"
      ]
     },
     "execution_count": 14,
     "metadata": {},
     "output_type": "execute_result"
    }
   ],
   "source": [
    "torch.add(x,y)"
   ]
  },
  {
   "cell_type": "code",
   "execution_count": 15,
   "metadata": {},
   "outputs": [
    {
     "data": {
      "text/plain": [
       "tensor([[1.3384, 1.3637],\n",
       "        [1.3380, 0.5825]])"
      ]
     },
     "execution_count": 15,
     "metadata": {},
     "output_type": "execute_result"
    }
   ],
   "source": [
    "y.add_(x)"
   ]
  },
  {
   "cell_type": "code",
   "execution_count": 16,
   "metadata": {},
   "outputs": [
    {
     "data": {
      "text/plain": [
       "tensor([[-0.9845, -0.8872],\n",
       "        [-0.6160, -0.2810]])"
      ]
     },
     "execution_count": 16,
     "metadata": {},
     "output_type": "execute_result"
    }
   ],
   "source": [
    "#  substraction in pytorch\n",
    "x-y"
   ]
  },
  {
   "cell_type": "code",
   "execution_count": 17,
   "metadata": {},
   "outputs": [
    {
     "data": {
      "text/plain": [
       "tensor([[-0.9845, -0.8872],\n",
       "        [-0.6160, -0.2810]])"
      ]
     },
     "execution_count": 17,
     "metadata": {},
     "output_type": "execute_result"
    }
   ],
   "source": [
    "torch.sub(x,y)"
   ]
  },
  {
   "cell_type": "code",
   "execution_count": 18,
   "metadata": {},
   "outputs": [
    {
     "data": {
      "text/plain": [
       "tensor([[0.4737, 0.6497],\n",
       "        [0.9660, 0.1757]])"
      ]
     },
     "execution_count": 18,
     "metadata": {},
     "output_type": "execute_result"
    }
   ],
   "source": [
    "# mutiply of tensors\n",
    "torch.mul(x,y)"
   ]
  },
  {
   "cell_type": "code",
   "execution_count": 19,
   "metadata": {},
   "outputs": [
    {
     "data": {
      "text/plain": [
       "tensor([[0.4737, 0.6497],\n",
       "        [0.9660, 0.1757]])"
      ]
     },
     "execution_count": 19,
     "metadata": {},
     "output_type": "execute_result"
    }
   ],
   "source": [
    "y.mul_(x)"
   ]
  },
  {
   "cell_type": "code",
   "execution_count": 20,
   "metadata": {},
   "outputs": [
    {
     "data": {
      "text/plain": [
       "tensor([[0.7471, 0.7333],\n",
       "        [0.7474, 1.7167]])"
      ]
     },
     "execution_count": 20,
     "metadata": {},
     "output_type": "execute_result"
    }
   ],
   "source": [
    "# divding two tensors\n",
    "torch.div(x,y)"
   ]
  },
  {
   "cell_type": "code",
   "execution_count": 21,
   "metadata": {},
   "outputs": [
    {
     "data": {
      "text/plain": [
       "tensor([[0.7471, 0.7333],\n",
       "        [0.7474, 1.7167]])"
      ]
     },
     "execution_count": 21,
     "metadata": {},
     "output_type": "execute_result"
    }
   ],
   "source": [
    "x/y"
   ]
  },
  {
   "cell_type": "code",
   "execution_count": 22,
   "metadata": {},
   "outputs": [
    {
     "data": {
      "text/plain": [
       "tensor([[0.6915, 0.5756, 0.0617],\n",
       "        [0.1396, 0.6597, 0.0081],\n",
       "        [0.1962, 0.5607, 0.5564],\n",
       "        [0.3767, 0.0938, 0.5097],\n",
       "        [0.5012, 0.6739, 0.7444]])"
      ]
     },
     "execution_count": 22,
     "metadata": {},
     "output_type": "execute_result"
    }
   ],
   "source": [
    "# slicing with tensors \n",
    "eg = torch.rand(5,3)\n",
    "eg"
   ]
  },
  {
   "cell_type": "code",
   "execution_count": 24,
   "metadata": {},
   "outputs": [
    {
     "data": {
      "text/plain": [
       "tensor([0.6915, 0.1396, 0.1962, 0.3767, 0.5012])"
      ]
     },
     "execution_count": 24,
     "metadata": {},
     "output_type": "execute_result"
    }
   ],
   "source": [
    "#  to get first column \n",
    "eg[:,0]"
   ]
  },
  {
   "cell_type": "code",
   "execution_count": 25,
   "metadata": {},
   "outputs": [
    {
     "data": {
      "text/plain": [
       "tensor([0.6915, 0.5756, 0.0617])"
      ]
     },
     "execution_count": 25,
     "metadata": {},
     "output_type": "execute_result"
    }
   ],
   "source": [
    "# to get first row \n",
    "eg[0,:]"
   ]
  },
  {
   "cell_type": "code",
   "execution_count": 26,
   "metadata": {},
   "outputs": [
    {
     "data": {
      "text/plain": [
       "tensor(0.0081)"
      ]
     },
     "execution_count": 26,
     "metadata": {},
     "output_type": "execute_result"
    }
   ],
   "source": [
    "# to get a specific value \n",
    "eg[1,2]"
   ]
  },
  {
   "cell_type": "code",
   "execution_count": 27,
   "metadata": {},
   "outputs": [
    {
     "data": {
      "text/plain": [
       "0.008093476295471191"
      ]
     },
     "execution_count": 27,
     "metadata": {},
     "output_type": "execute_result"
    }
   ],
   "source": [
    "# to get the actual value\n",
    "eg[1,2].item()"
   ]
  },
  {
   "cell_type": "code",
   "execution_count": 28,
   "metadata": {},
   "outputs": [
    {
     "data": {
      "text/plain": [
       "tensor([[[0.9606, 0.7351],\n",
       "         [0.8130, 0.3825]],\n",
       "\n",
       "        [[0.1643, 0.3785],\n",
       "         [0.3250, 0.3645]]])"
      ]
     },
     "execution_count": 28,
     "metadata": {},
     "output_type": "execute_result"
    }
   ],
   "source": [
    "#  now lets experiment if the tensor is three d\n",
    "threeD = torch.rand([2,2,2])\n",
    "threeD"
   ]
  },
  {
   "cell_type": "code",
   "execution_count": 29,
   "metadata": {},
   "outputs": [
    {
     "data": {
      "text/plain": [
       "tensor(0.3785)"
      ]
     },
     "execution_count": 29,
     "metadata": {},
     "output_type": "execute_result"
    }
   ],
   "source": [
    "#  first is which 2d matrix and second and third are same as 2d ,here first tensor(not zeroth) 0 row 1 column\n",
    "threeD[1,0,1]"
   ]
  },
  {
   "cell_type": "code",
   "execution_count": 30,
   "metadata": {},
   "outputs": [
    {
     "data": {
      "text/plain": [
       "tensor([[0.6915, 0.5756, 0.0617],\n",
       "        [0.1396, 0.6597, 0.0081],\n",
       "        [0.1962, 0.5607, 0.5564],\n",
       "        [0.3767, 0.0938, 0.5097],\n",
       "        [0.5012, 0.6739, 0.7444]])"
      ]
     },
     "execution_count": 30,
     "metadata": {},
     "output_type": "execute_result"
    }
   ],
   "source": [
    "# to reshape a tensor \n",
    "eg"
   ]
  },
  {
   "cell_type": "code",
   "execution_count": 31,
   "metadata": {},
   "outputs": [
    {
     "data": {
      "text/plain": [
       "tensor([0.6915, 0.5756, 0.0617, 0.1396, 0.6597, 0.0081, 0.1962, 0.5607, 0.5564,\n",
       "        0.3767, 0.0938, 0.5097, 0.5012, 0.6739, 0.7444])"
      ]
     },
     "execution_count": 31,
     "metadata": {},
     "output_type": "execute_result"
    }
   ],
   "source": [
    "#  to reshape in a tensor into 1D\n",
    "oneD = eg.view(15)\n",
    "oneD"
   ]
  },
  {
   "cell_type": "code",
   "execution_count": 32,
   "metadata": {},
   "outputs": [],
   "source": [
    "#  -1 in row automatically takes the best shape for tensor \n",
    "fivexthree = oneD.view(-1,5)"
   ]
  },
  {
   "cell_type": "code",
   "execution_count": 33,
   "metadata": {},
   "outputs": [
    {
     "data": {
      "text/plain": [
       "torch.Size([3, 5])"
      ]
     },
     "execution_count": 33,
     "metadata": {},
     "output_type": "execute_result"
    }
   ],
   "source": [
    "fivexthree.size()"
   ]
  },
  {
   "cell_type": "code",
   "execution_count": 34,
   "metadata": {},
   "outputs": [],
   "source": [
    "fourxfive = torch.rand(4,5)"
   ]
  },
  {
   "cell_type": "code",
   "execution_count": 35,
   "metadata": {},
   "outputs": [],
   "source": [
    "fiveXfour = fourxfive.view(5,-1)"
   ]
  },
  {
   "cell_type": "code",
   "execution_count": 36,
   "metadata": {},
   "outputs": [
    {
     "data": {
      "text/plain": [
       "tensor([[0.0722, 0.5762, 0.5604, 0.3552],\n",
       "        [0.9133, 0.9192, 0.8321, 0.9994],\n",
       "        [0.9557, 0.6377, 0.0722, 0.1509],\n",
       "        [0.4882, 0.2923, 0.3175, 0.4029],\n",
       "        [0.0588, 0.4117, 0.5265, 0.2860]])"
      ]
     },
     "execution_count": 36,
     "metadata": {},
     "output_type": "execute_result"
    }
   ],
   "source": [
    "fiveXfour"
   ]
  },
  {
   "cell_type": "code",
   "execution_count": 37,
   "metadata": {},
   "outputs": [
    {
     "data": {
      "text/plain": [
       "torch.Size([5, 4])"
      ]
     },
     "execution_count": 37,
     "metadata": {},
     "output_type": "execute_result"
    }
   ],
   "source": [
    "fiveXfour.size()"
   ]
  },
  {
   "cell_type": "code",
   "execution_count": 38,
   "metadata": {},
   "outputs": [
    {
     "data": {
      "text/plain": [
       "(tensor([3., 3., 3., 3., 3.]), array([3., 3., 3., 3., 3.], dtype=float32))"
      ]
     },
     "execution_count": 38,
     "metadata": {},
     "output_type": "execute_result"
    }
   ],
   "source": [
    "# convert tensor into numpy array \n",
    "#  as it is require many function takes np.arraya as input and not tensors\n",
    "import numpy as np \n",
    "a = torch.ones(5)\n",
    "b = a.numpy()\n",
    "#  but here both share same location in the memory so any change is a will cause the same cahnge in b\n",
    "a.add_(2)\n",
    "a,b\n",
    "\n",
    "#  both are changed\n"
   ]
  },
  {
   "cell_type": "code",
   "execution_count": 39,
   "metadata": {},
   "outputs": [
    {
     "data": {
      "text/plain": [
       "tensor([[1., 1.],\n",
       "        [1., 1.],\n",
       "        [1., 1.],\n",
       "        [1., 1.],\n",
       "        [1., 1.]], dtype=torch.float64)"
      ]
     },
     "execution_count": 39,
     "metadata": {},
     "output_type": "execute_result"
    }
   ],
   "source": [
    "#  to convert numpy array into tensor \n",
    "aa = np.ones([5,2])\n",
    "bb = torch.from_numpy(aa)\n",
    "bb"
   ]
  },
  {
   "cell_type": "code",
   "execution_count": 45,
   "metadata": {},
   "outputs": [
    {
     "data": {
      "text/plain": [
       "tensor([1., 1., 1., 1., 1.], device='cuda:0')"
      ]
     },
     "execution_count": 45,
     "metadata": {},
     "output_type": "execute_result"
    }
   ],
   "source": [
    "#  to check cuda is available or gpu is available \n",
    "if torch.cuda.is_available():\n",
    "    device = torch.device(\"cuda\")\n",
    "    xg = torch.ones(5,device=device)\n",
    "xg"
   ]
  },
  {
   "cell_type": "code",
   "execution_count": 46,
   "metadata": {},
   "outputs": [],
   "source": [
    "# calculate gradient with pytorch"
   ]
  },
  {
   "cell_type": "code",
   "execution_count": 47,
   "metadata": {},
   "outputs": [
    {
     "data": {
      "text/plain": [
       "tensor([-0.0056, -1.1897, -0.4277], requires_grad=True)"
      ]
     },
     "execution_count": 47,
     "metadata": {},
     "output_type": "execute_result"
    }
   ],
   "source": [
    "eg1 = torch.randn(3, requires_grad = True)\n",
    "eg1"
   ]
  },
  {
   "cell_type": "markdown",
   "metadata": {},
   "source": [
    "# "
   ]
  },
  {
   "cell_type": "code",
   "execution_count": 48,
   "metadata": {},
   "outputs": [
    {
     "data": {
      "text/plain": [
       "tensor([1.9944, 0.8103, 1.5723], grad_fn=<AddBackward0>)"
      ]
     },
     "execution_count": 48,
     "metadata": {},
     "output_type": "execute_result"
    }
   ],
   "source": [
    "eg1\n",
    "y1 = eg1+2\n",
    "y1"
   ]
  },
  {
   "cell_type": "code",
   "execution_count": 49,
   "metadata": {},
   "outputs": [
    {
     "data": {
      "text/plain": [
       "tensor([7.9556, 1.3132, 4.9441], grad_fn=<MulBackward0>)"
      ]
     },
     "execution_count": 49,
     "metadata": {},
     "output_type": "execute_result"
    }
   ],
   "source": [
    "z = y1*y1*2\n",
    "z"
   ]
  },
  {
   "cell_type": "code",
   "execution_count": 50,
   "metadata": {},
   "outputs": [
    {
     "data": {
      "text/plain": [
       "tensor([1.2000, 3.3000, 4.5000])"
      ]
     },
     "execution_count": 50,
     "metadata": {},
     "output_type": "execute_result"
    }
   ],
   "source": [
    "v =  torch.tensor([1.2,3.3,4.5], dtype = torch.float32)\n",
    "v"
   ]
  },
  {
   "cell_type": "code",
   "execution_count": 51,
   "metadata": {},
   "outputs": [],
   "source": [
    "z.backward(v) #claculating   z product v lets say g and than dg/dx"
   ]
  },
  {
   "cell_type": "code",
   "execution_count": 52,
   "metadata": {},
   "outputs": [
    {
     "name": "stdout",
     "output_type": "stream",
     "text": [
      "tensor([ 9.5733, 10.6959, 28.3009])\n"
     ]
    }
   ],
   "source": [
    "print(eg1.grad)"
   ]
  },
  {
   "cell_type": "code",
   "execution_count": 45,
   "metadata": {},
   "outputs": [],
   "source": [
    "#  to let the tensor to not calulate gradient \n",
    "#  use x.requires_grad_(False)"
   ]
  },
  {
   "cell_type": "code",
   "execution_count": 46,
   "metadata": {},
   "outputs": [],
   "source": [
    "weights = torch.ones(4, requires_grad = True)\n",
    "\n",
    "# for epoch in range(3):\n",
    "#     model_output = (weights*3).sum()\n",
    "#     model_output.backward()\n",
    "#     print(weights.grad)\n",
    "#     weights.grad.zero_()\n",
    "\n",
    "#  the reason why grad.zero() is used is to take the gradient to nonnnnne again cause here      it is good enough but is \n",
    "#  some cases where x is changing say in graient optimitation there with every epoch gradiant should start from zero "
   ]
  },
  {
   "cell_type": "code",
   "execution_count": 47,
   "metadata": {},
   "outputs": [
    {
     "name": "stdout",
     "output_type": "stream",
     "text": [
      "tensor([2., 2., 2., 2.])\n"
     ]
    }
   ],
   "source": [
    "import torch\n",
    "\n",
    "weights = torch.ones(4, requires_grad=True)\n",
    "\n",
    "optimizer = torch.optim.SGD([weights], lr=0.01)\n",
    "\n",
    "# Define a simple loss function\n",
    "loss = (weights * 2).sum()  # Example: loss = sum(weights * 2)\n",
    "\n",
    "loss.backward()  # Compute gradients\n",
    "\n",
    "optimizer.step()  # Update weights\n",
    "\n",
    "print(weights.grad)  # Check updated weights\n"
   ]
  },
  {
   "cell_type": "code",
   "execution_count": 55,
   "metadata": {},
   "outputs": [
    {
     "name": "stdout",
     "output_type": "stream",
     "text": [
      "Epoch 1:\n",
      "  Gradients: tensor([2., 2., 2., 2.])\n",
      "  Weights before update: tensor([1., 1., 1., 1.], requires_grad=True)\n",
      "  Weights after update: tensor([0.9800, 0.9800, 0.9800, 0.9800], requires_grad=True)\n",
      "  Loss: 4.0\n",
      "\n",
      "Epoch 2:\n",
      "  Gradients: tensor([1.9600, 1.9600, 1.9600, 1.9600])\n",
      "  Weights before update: tensor([0.9800, 0.9800, 0.9800, 0.9800], requires_grad=True)\n",
      "  Weights after update: tensor([0.9604, 0.9604, 0.9604, 0.9604], requires_grad=True)\n",
      "  Loss: 3.841600179672241\n",
      "\n",
      "Epoch 3:\n",
      "  Gradients: tensor([1.9208, 1.9208, 1.9208, 1.9208])\n",
      "  Weights before update: tensor([0.9604, 0.9604, 0.9604, 0.9604], requires_grad=True)\n",
      "  Weights after update: tensor([0.9412, 0.9412, 0.9412, 0.9412], requires_grad=True)\n",
      "  Loss: 3.6894729137420654\n",
      "\n",
      "Epoch 4:\n",
      "  Gradients: tensor([1.8824, 1.8824, 1.8824, 1.8824])\n",
      "  Weights before update: tensor([0.9412, 0.9412, 0.9412, 0.9412], requires_grad=True)\n",
      "  Weights after update: tensor([0.9224, 0.9224, 0.9224, 0.9224], requires_grad=True)\n",
      "  Loss: 3.543369770050049\n",
      "\n",
      "Epoch 5:\n",
      "  Gradients: tensor([1.8447, 1.8447, 1.8447, 1.8447])\n",
      "  Weights before update: tensor([0.9224, 0.9224, 0.9224, 0.9224], requires_grad=True)\n",
      "  Weights after update: tensor([0.9039, 0.9039, 0.9039, 0.9039], requires_grad=True)\n",
      "  Loss: 3.4030520915985107\n",
      "\n",
      "Epoch 6:\n",
      "  Gradients: tensor([1.8078, 1.8078, 1.8078, 1.8078])\n",
      "  Weights before update: tensor([0.9039, 0.9039, 0.9039, 0.9039], requires_grad=True)\n",
      "  Weights after update: tensor([0.8858, 0.8858, 0.8858, 0.8858], requires_grad=True)\n",
      "  Loss: 3.268291473388672\n",
      "\n",
      "Epoch 7:\n",
      "  Gradients: tensor([1.7717, 1.7717, 1.7717, 1.7717])\n",
      "  Weights before update: tensor([0.8858, 0.8858, 0.8858, 0.8858], requires_grad=True)\n",
      "  Weights after update: tensor([0.8681, 0.8681, 0.8681, 0.8681], requires_grad=True)\n",
      "  Loss: 3.1388673782348633\n",
      "\n",
      "Epoch 8:\n",
      "  Gradients: tensor([1.7363, 1.7363, 1.7363, 1.7363])\n",
      "  Weights before update: tensor([0.8681, 0.8681, 0.8681, 0.8681], requires_grad=True)\n",
      "  Weights after update: tensor([0.8508, 0.8508, 0.8508, 0.8508], requires_grad=True)\n",
      "  Loss: 3.014568328857422\n",
      "\n",
      "Epoch 9:\n",
      "  Gradients: tensor([1.7015, 1.7015, 1.7015, 1.7015])\n",
      "  Weights before update: tensor([0.8508, 0.8508, 0.8508, 0.8508], requires_grad=True)\n",
      "  Weights after update: tensor([0.8337, 0.8337, 0.8337, 0.8337], requires_grad=True)\n",
      "  Loss: 2.895191192626953\n",
      "\n",
      "Epoch 10:\n",
      "  Gradients: tensor([1.6675, 1.6675, 1.6675, 1.6675])\n",
      "  Weights before update: tensor([0.8337, 0.8337, 0.8337, 0.8337], requires_grad=True)\n",
      "  Weights after update: tensor([0.8171, 0.8171, 0.8171, 0.8171], requires_grad=True)\n",
      "  Loss: 2.7805416584014893\n",
      "\n",
      "Final optimized weights: tensor([0.8171, 0.8171, 0.8171, 0.8171], requires_grad=True)\n"
     ]
    }
   ],
   "source": [
    "import torch\n",
    "\n",
    "weights = torch.ones(4, requires_grad=True)  # Initialize weights as [1,1,1,1] with gradient tracking\n",
    "optimizer = torch.optim.SGD([weights], lr=0.01)  # Define the optimizer with learning rate 0.01\n",
    "\n",
    "for epoch in range(10):  # Run multiple optimization steps\n",
    "    optimizer.zero_grad()  # Clear previous gradients\n",
    "    loss = (weights ** 2).sum()  # Compute loss\n",
    "    loss.backward()  # Compute gradient (dloss/dw)\n",
    "\n",
    "    print(f\"Epoch {epoch+1}:\")\n",
    "    print(f\"  Gradients: {weights.grad}\")  # Print gradients before updating weights\n",
    "    print(f\"  Weights before update: {weights}\")\n",
    "\n",
    "    optimizer.step()  # Update weights using gradients\n",
    "\n",
    "    print(f\"  Weights after update: {weights}\")\n",
    "    print(f\"  Loss: {loss.item()}\\n\")  # Print loss\n",
    "\n",
    "print(\"Final optimized weights:\", weights)\n",
    "\n"
   ]
  },
  {
   "cell_type": "code",
   "execution_count": null,
   "metadata": {},
   "outputs": [],
   "source": []
  },
  {
   "cell_type": "code",
   "execution_count": 49,
   "metadata": {},
   "outputs": [
    {
     "name": "stdout",
     "output_type": "stream",
     "text": [
      "prediction before training: f(5) = 0.000\n",
      "epoch 1: w = 1.200, loss = 30.00000000\n",
      "epoch 2: w = 1.680, loss = 4.79999924\n",
      "epoch 3: w = 1.872, loss = 0.76800019\n",
      "epoch 4: w = 1.949, loss = 0.12288000\n",
      "epoch 5: w = 1.980, loss = 0.01966083\n",
      "epoch 6: w = 1.992, loss = 0.00314574\n",
      "epoch 7: w = 1.997, loss = 0.00050331\n",
      "epoch 8: w = 1.999, loss = 0.00008053\n",
      "epoch 9: w = 1.999, loss = 0.00001288\n",
      "epoch 10: w = 2.000, loss = 0.00000206\n",
      "epoch 11: w = 2.000, loss = 0.00000033\n",
      "epoch 12: w = 2.000, loss = 0.00000005\n",
      "epoch 13: w = 2.000, loss = 0.00000001\n",
      "epoch 14: w = 2.000, loss = 0.00000000\n",
      "epoch 15: w = 2.000, loss = 0.00000000\n",
      "epoch 16: w = 2.000, loss = 0.00000000\n",
      "epoch 17: w = 2.000, loss = 0.00000000\n",
      "epoch 18: w = 2.000, loss = 0.00000000\n",
      "epoch 19: w = 2.000, loss = 0.00000000\n",
      "epoch 20: w = 2.000, loss = 0.00000000\n",
      "prediction after training: f(5) = 10.000\n"
     ]
    }
   ],
   "source": [
    "# optimize gradient with auto grad date - 17/2/2025\n",
    "# making a model with numpy \n",
    "import numpy as np\n",
    "# model\n",
    "# f = w*x\n",
    "x= np.array([1,2,3,4], dtype=np.float32)\n",
    "y = np.array([2,4,6,8], dtype=np.float32)\n",
    "\n",
    "w= 0.0\n",
    "# model prediction \n",
    "def forward(x):\n",
    "    return w*x\n",
    "# loss = MSE\n",
    "def loss(y,y_predicted):\n",
    "    return ((y_predicted-y)**2).mean()\n",
    "# gradient\n",
    "# dj/dw = 1/n 2x (w*x - y)\n",
    "def gradient(x,y,y_predicted):\n",
    "    return np.dot(2*x, y_predicted-y).mean()\n",
    "print(f\"prediction before training: f(5) = {forward(5):.3f}\")\n",
    "# training\n",
    "learning_rate = 0.01\n",
    "n_iters = 20\n",
    "\n",
    "# training loop\n",
    "for epoch in range(n_iters):\n",
    "    y_predicted = forward(x)\n",
    "    l = loss(y,y_predicted)\n",
    "    dw = gradient(x,y,y_predicted)\n",
    "    w = w - learning_rate*dw\n",
    "    if epoch %1 == 0:\n",
    "        print(f\"epoch {epoch+1}: w = {w:.3f}, loss = {l:.8f}\")\n",
    "    \n",
    "print(f\"prediction after training: f(5) = {forward(5):.3f}\")    "
   ]
  },
  {
   "cell_type": "code",
   "execution_count": 50,
   "metadata": {
    "scrolled": true
   },
   "outputs": [
    {
     "name": "stdout",
     "output_type": "stream",
     "text": [
      "prediction before training: f(5) = 0.000\n",
      "epoch 1: w = 0.300, loss = 30.00000000\n",
      "epoch 3: w = 0.772, loss = 15.66018772\n",
      "epoch 5: w = 1.113, loss = 8.17471695\n",
      "epoch 7: w = 1.359, loss = 4.26725292\n",
      "epoch 9: w = 1.537, loss = 2.22753215\n",
      "epoch 11: w = 1.665, loss = 1.16278565\n",
      "epoch 13: w = 1.758, loss = 0.60698116\n",
      "epoch 15: w = 1.825, loss = 0.31684780\n",
      "epoch 17: w = 1.874, loss = 0.16539653\n",
      "epoch 19: w = 1.909, loss = 0.08633806\n",
      "epoch 21: w = 1.934, loss = 0.04506890\n",
      "epoch 23: w = 1.952, loss = 0.02352631\n",
      "epoch 25: w = 1.966, loss = 0.01228084\n",
      "epoch 27: w = 1.975, loss = 0.00641066\n",
      "epoch 29: w = 1.982, loss = 0.00334642\n",
      "epoch 31: w = 1.987, loss = 0.00174685\n",
      "epoch 33: w = 1.991, loss = 0.00091188\n",
      "epoch 35: w = 1.993, loss = 0.00047601\n",
      "epoch 37: w = 1.995, loss = 0.00024848\n",
      "epoch 39: w = 1.996, loss = 0.00012971\n",
      "epoch 41: w = 1.997, loss = 0.00006770\n",
      "epoch 43: w = 1.998, loss = 0.00003534\n",
      "epoch 45: w = 1.999, loss = 0.00001845\n",
      "epoch 47: w = 1.999, loss = 0.00000963\n",
      "epoch 49: w = 1.999, loss = 0.00000503\n",
      "epoch 51: w = 1.999, loss = 0.00000262\n",
      "epoch 53: w = 2.000, loss = 0.00000137\n",
      "epoch 55: w = 2.000, loss = 0.00000071\n",
      "epoch 57: w = 2.000, loss = 0.00000037\n",
      "epoch 59: w = 2.000, loss = 0.00000019\n",
      "epoch 61: w = 2.000, loss = 0.00000010\n",
      "epoch 63: w = 2.000, loss = 0.00000005\n",
      "epoch 65: w = 2.000, loss = 0.00000003\n",
      "epoch 67: w = 2.000, loss = 0.00000001\n",
      "epoch 69: w = 2.000, loss = 0.00000001\n",
      "epoch 71: w = 2.000, loss = 0.00000000\n",
      "epoch 73: w = 2.000, loss = 0.00000000\n",
      "epoch 75: w = 2.000, loss = 0.00000000\n",
      "epoch 77: w = 2.000, loss = 0.00000000\n",
      "epoch 79: w = 2.000, loss = 0.00000000\n",
      "epoch 81: w = 2.000, loss = 0.00000000\n",
      "epoch 83: w = 2.000, loss = 0.00000000\n",
      "epoch 85: w = 2.000, loss = 0.00000000\n",
      "epoch 87: w = 2.000, loss = 0.00000000\n",
      "epoch 89: w = 2.000, loss = 0.00000000\n",
      "epoch 91: w = 2.000, loss = 0.00000000\n",
      "epoch 93: w = 2.000, loss = 0.00000000\n",
      "epoch 95: w = 2.000, loss = 0.00000000\n",
      "epoch 97: w = 2.000, loss = 0.00000000\n",
      "epoch 99: w = 2.000, loss = 0.00000000\n",
      "prediction after training: f(5) = 10.000\n"
     ]
    }
   ],
   "source": [
    "# lets do it again with pytorc and get graidient by auto grad \n",
    "import torch\n",
    "import numpy as np\n",
    "# model\n",
    "# f = w*x\n",
    "x= torch.tensor([1,2,3,4], dtype=torch.float32)\n",
    "y = torch.tensor([2,4,6,8], dtype=torch.float32)\n",
    "\n",
    "w= torch.tensor(0.0,dtype = torch.float32, requires_grad = True)\n",
    "# model prediction \n",
    "def forward(x):\n",
    "    return w*x\n",
    "# loss = MSE\n",
    "def loss(y,y_predicted):\n",
    "    return ((y_predicted-y)**2).mean()\n",
    "# gradient\n",
    "# dj/dw = 1/n 2x (w*x - y)\n",
    "def gradient(x,y,y_predicted):\n",
    "    return np.dot(2*x, y_predicted-y).mean()\n",
    "print(f\"prediction before training: f(5) = {forward(5):.3f}\")\n",
    "# training\n",
    "learning_rate = 0.01\n",
    "n_iters = 100\n",
    "\n",
    "# training loop\n",
    "for epoch in range(n_iters):\n",
    "    y_predicted = forward(x)\n",
    "    l = loss(y,y_predicted)\n",
    "    # gradients = backward pass\n",
    "    l.backward() #dl/dw\n",
    "    # update weight\n",
    "    with torch.no_grad():\n",
    "        w-= learning_rate * w.grad\n",
    "    # zero gradient or emptying the gradient\n",
    "    w.grad.zero_()\n",
    "    \n",
    "    if epoch %2 == 0:\n",
    "        print(f\"epoch {epoch+1}: w = {w:.3f}, loss = {l:.8f}\")\n",
    "    \n",
    "print(f\"prediction after training: f(5) = {forward(5):.3f}\")   "
   ]
  },
  {
   "cell_type": "code",
   "execution_count": 51,
   "metadata": {},
   "outputs": [
    {
     "name": "stdout",
     "output_type": "stream",
     "text": [
      "4 1\n",
      "epoch 1: w = 0.884, loss = 14.05496597\n",
      "epoch 11: w = 1.745, loss = 0.37514615\n",
      "epoch 21: w = 1.886, loss = 0.02054649\n",
      "epoch 31: w = 1.911, loss = 0.01074119\n",
      "epoch 41: w = 1.917, loss = 0.00989325\n",
      "prediction after training: f(5) = 9.834\n"
     ]
    }
   ],
   "source": [
    "# using pytorch loss and optimizer class in pytorch \n",
    "# lets do it again with pytorc and get graidient by auto grad \n",
    "import torch\n",
    "import numpy as np\n",
    "import torch.nn as nn\n",
    "# model\n",
    "# f = w*x\n",
    "x= torch.tensor([[1],[2],[3],[4]], dtype=torch.float32)\n",
    "y = torch.tensor([[2],[4],[6],[8]], dtype=torch.float32)\n",
    "\n",
    "#  we also need to make a test as f(5) directly can not be called here\n",
    "x_test  = torch.tensor([5], dtype = torch.float32)\n",
    "\n",
    "\n",
    "\n",
    "# w= torch.tensor(0.0,dtype = torch.float32, requires_grad = True)\n",
    "#  do not require w now as nn models arelay have w as a param\n",
    "# we need to defrine number of features and number of sample as here both are equal \n",
    "n_samples, n_features = x.shape\n",
    "print(n_samples,n_features)\n",
    "\n",
    "#  we also need to define the shape of input size and out put size\n",
    "input_size = n_features\n",
    "output_size = n_features\n",
    "\n",
    "\n",
    "# model prediction \n",
    "# def forward(x):\n",
    "#     return w*x\n",
    "# this will changes by already present linear model\n",
    "model = nn.Linear(input_size, output_size)\n",
    "\n",
    "\n",
    "# training\n",
    "learning_rate = 0.01\n",
    "n_iters = 50\n",
    "\n",
    "\n",
    "# loss = MSE\n",
    "# def loss(y,y_predicted):\n",
    "#     return ((y_predicted-y)**2).mean()\n",
    "#  nn also has a loss function that can be used \n",
    "loss = nn.MSELoss()\n",
    "\n",
    "\n",
    "# gradient\n",
    "# dj/dw = 1/n 2x (w*x - y)\n",
    "# def gradient(x,y,y_predicted):\n",
    "#     return np.dot(2*x, y_predicted-y).mean()\n",
    "#  torch also has an optimizer function \n",
    "optimizer  =  torch.optim.SGD(model.parameters(),lr = learning_rate)\n",
    "\n",
    "# training loop\n",
    "for epoch in range(n_iters):\n",
    "    y_predicted = model(x)\n",
    "    \n",
    "    l = loss(y,y_predicted)\n",
    "    \n",
    "    # gradients = backward pass\n",
    "    l.backward() #dl/dw\n",
    "    # update weight\n",
    "    \n",
    "    # with torch.no_grad():\n",
    "    #     w-= learning_rate * w.grad\n",
    "    # THIS CAN BE DONE BY OPTIMIZER\n",
    "    optimizer.step()\n",
    "    \n",
    "    # zero gradient or emptying the gradient\n",
    "    optimizer.zero_grad()\n",
    "    \n",
    "    if epoch %10 == 0:\n",
    "        [w,b] = model.parameters()\n",
    "        print(f\"epoch {epoch+1}: w = {w[0][0].item():.3f}, loss = {l:.8f}\")\n",
    "    \n",
    "print(f\"prediction after training: f(5) = {model(x_test).item():.3f}\")   "
   ]
  },
  {
   "cell_type": "code",
   "execution_count": 52,
   "metadata": {},
   "outputs": [
    {
     "ename": "SyntaxError",
     "evalue": "invalid syntax (3090990130.py, line 3)",
     "output_type": "error",
     "traceback": [
      "\u001b[0;36m  Cell \u001b[0;32mIn[52], line 3\u001b[0;36m\u001b[0m\n\u001b[0;31m    def __init__(self.input_dim, output_dim):\u001b[0m\n\u001b[0m                     ^\u001b[0m\n\u001b[0;31mSyntaxError\u001b[0m\u001b[0;31m:\u001b[0m invalid syntax\n"
     ]
    }
   ],
   "source": [
    "#  a custum linear regression\n",
    "class LinearRegression(nn.Module):\n",
    "     def __init__(self,input_dim, output_dim):\n",
    "         super(LinearRegression, self).__init__()\n",
    "         self.lin = nn.Linear(input_dim, output_dim)\n",
    "     def forward(self,x):\n",
    "         return self.lin(x)"
   ]
  },
  {
   "cell_type": "code",
   "execution_count": 54,
   "metadata": {},
   "outputs": [
    {
     "name": "stdout",
     "output_type": "stream",
     "text": [
      "4 1\n",
      "epoch 1: w = 0.357, loss = 23.70212173\n",
      "epoch 11: w = 1.478, loss = 0.74837607\n",
      "epoch 21: w = 1.666, loss = 0.14664222\n",
      "epoch 31: w = 1.703, loss = 0.12366562\n",
      "epoch 41: w = 1.716, loss = 0.11609395\n",
      "prediction after training: f(5) = 9.432\n"
     ]
    }
   ],
   "source": [
    "# using pytorch loss and optimizer class in pytorch \n",
    "# lets do it again with pytorc and get graidient by auto grad \n",
    "import torch\n",
    "import numpy as np\n",
    "import torch.nn as nn\n",
    "# model\n",
    "# f = w*x\n",
    "x= torch.tensor([[1],[2],[3],[4]], dtype=torch.float32)\n",
    "y = torch.tensor([[2],[4],[6],[8]], dtype=torch.float32)\n",
    "\n",
    "#  we also need to make a test as f(5) directly can not be called here\n",
    "x_test  = torch.tensor([5], dtype = torch.float32)\n",
    "\n",
    "\n",
    "\n",
    "# w= torch.tensor(0.0,dtype = torch.float32, requires_grad = True)\n",
    "#  do not require w now as nn models arelay have w as a param\n",
    "# we need to defrine number of features and number of sample as here both are equal \n",
    "n_samples, n_features = x.shape\n",
    "print(n_samples,n_features)\n",
    "\n",
    "#  we also need to define the shape of input size and out put size\n",
    "input_size = n_features\n",
    "output_size = n_features\n",
    "\n",
    "\n",
    "# model prediction \n",
    "# def forward(x):\n",
    "#     return w*x\n",
    "# this will changes by already present linear model\n",
    "#  a custum linear regression\n",
    "class LinearRegression(nn.Module):\n",
    "     def __init__(self, input_dim, output_dim):\n",
    "         super(LinearRegression, self).__init__()\n",
    "         self.lin = nn.Linear(input_dim, output_dim)\n",
    "     def forward(self,x):\n",
    "         return self.lin(x)\n",
    "model = LinearRegression(input_size, output_size)\n",
    "\n",
    "\n",
    "# training\n",
    "learning_rate = 0.01\n",
    "n_iters = 50\n",
    "\n",
    "\n",
    "# loss = MSE\n",
    "# def loss(y,y_predicted):\n",
    "#     return ((y_predicted-y)**2).mean()\n",
    "#  nn also has a loss function that can be used \n",
    "loss = nn.MSELoss()\n",
    "\n",
    "\n",
    "# gradient\n",
    "# dj/dw = 1/n 2x (w*x - y)\n",
    "# def gradient(x,y,y_predicted):\n",
    "#     return np.dot(2*x, y_predicted-y).mean()\n",
    "#  torch also has an optimizer function \n",
    "optimizer  =  torch.optim.SGD(model.parameters(),lr = learning_rate)\n",
    "\n",
    "# training loop\n",
    "for epoch in range(n_iters):\n",
    "    y_predicted = model(x)\n",
    "    \n",
    "    l = loss(y,y_predicted)\n",
    "    \n",
    "    # gradients = backward pass\n",
    "    l.backward() #dl/dw\n",
    "    # update weight\n",
    "    \n",
    "    # with torch.no_grad():\n",
    "    #     w-= learning_rate * w.grad\n",
    "    # THIS CAN BE DONE BY OPTIMIZER\n",
    "    optimizer.step()\n",
    "    \n",
    "    # zero gradient or emptying the gradient\n",
    "    optimizer.zero_grad()\n",
    "    \n",
    "    if epoch %10 == 0:\n",
    "        [w,b] = model.parameters()\n",
    "        print(f\"epoch {epoch+1}: w = {w[0][0].item():.3f}, loss = {l:.8f}\")\n",
    "    \n",
    "print(f\"prediction after training: f(5) = {model(x_test).item():.3f}\")   "
   ]
  },
  {
   "cell_type": "code",
   "execution_count": 74,
   "metadata": {},
   "outputs": [
    {
     "name": "stdout",
     "output_type": "stream",
     "text": [
      "epoch: 10,loss = 4473.2837\n",
      "epoch: 20,loss = 3337.2793\n",
      "epoch: 30,loss = 2514.7898\n",
      "epoch: 40,loss = 1918.6831\n",
      "epoch: 50,loss = 1486.2423\n",
      "epoch: 60,loss = 1172.2577\n",
      "epoch: 70,loss = 944.0984\n",
      "epoch: 80,loss = 778.1817\n",
      "epoch: 90,loss = 657.4458\n",
      "epoch: 100,loss = 569.5328\n"
     ]
    },
    {
     "data": {
      "image/png": "[encoded data removed]",
      "text/plain": [
       "<Figure size 640x480 with 1 Axes>"
      ]
     },
     "metadata": {},
     "output_type": "display_data"
    }
   ],
   "source": [
    "import torch \n",
    "import torch.nn as nn\n",
    "import numpy as np \n",
    "from sklearn import datasets\n",
    "import matplotlib.pyplot as plt \n",
    "# prepare data \n",
    "x_numpy, y_numpy  = datasets.make_regression(n_samples = 100,n_features = 1, noise = 20, random_state =1)\n",
    "\n",
    "x = torch.from_numpy(x_numpy.astype(np.float32))\n",
    "y = torch.from_numpy(y_numpy.astype(np.float32))\n",
    "y = y.view(y.shape[0],1)\n",
    "\n",
    "n_samples, n_features = x.shape\n",
    "# 1) model\n",
    "input_size = n_features\n",
    "output_size = 1\n",
    "model = nn.Linear(input_size, output_size)\n",
    "# )loss and optimizer\n",
    "learning_rate = 0.01\n",
    "criterion = nn.MSELoss()\n",
    "optimizer =  torch.optim.SGD(model.parameters(), lr = learning_rate)\n",
    "# 3) training loop \n",
    "num_epoch = 100\n",
    "for epoch in range(num_epoch):\n",
    "    y_pred = model(x)\n",
    "    loss = criterion(y_pred,y)\n",
    "\n",
    "    # backwardpass\n",
    "    loss.backward()\n",
    "\n",
    "    # update\n",
    "    optimizer.step()\n",
    "\n",
    "    optimizer.zero_grad()\n",
    "\n",
    "    if (epoch+1) % 10 == 0:\n",
    "        print(f\"epoch: {epoch+1},loss = {loss.item():.4f}\")\n",
    "predicted  = model(x).detach().numpy()\n",
    "plt.plot(x_numpy, y_numpy, \"ro\")\n",
    "plt.plot(x_numpy, predicted, \"b\")\n",
    "plt.show()"
   ]
  },
  {
   "cell_type": "code",
   "execution_count": 67,
   "metadata": {},
   "outputs": [
    {
     "data": {
      "text/plain": [
       "100"
      ]
     },
     "execution_count": 67,
     "metadata": {},
     "output_type": "execute_result"
    }
   ],
   "source": [
    "n_samples"
   ]
  },
  {
   "cell_type": "code",
   "execution_count": 68,
   "metadata": {},
   "outputs": [
    {
     "data": {
      "text/plain": [
       "1"
      ]
     },
     "execution_count": 68,
     "metadata": {},
     "output_type": "execute_result"
    }
   ],
   "source": [
    "n_features"
   ]
  },
  {
   "cell_type": "code",
   "execution_count": 88,
   "metadata": {},
   "outputs": [
    {
     "name": "stdout",
     "output_type": "stream",
     "text": [
      "epoch: 10,loss = 0.5063\n",
      "epoch: 20,loss = 0.4198\n",
      "epoch: 30,loss = 0.3642\n",
      "epoch: 40,loss = 0.3255\n",
      "epoch: 50,loss = 0.2969\n",
      "epoch: 60,loss = 0.2747\n",
      "epoch: 70,loss = 0.2570\n",
      "epoch: 80,loss = 0.2424\n",
      "epoch: 90,loss = 0.2302\n",
      "epoch: 100,loss = 0.2198\n",
      "accuracy = 0.939\n"
     ]
    }
   ],
   "source": [
    "# logistic regression with pytorch\n",
    "import numpy as np \n",
    "import torch \n",
    "import torch.nn as nn \n",
    "from sklearn import datasets\n",
    "import matplotlib.pyplot as plt\n",
    "from sklearn.preprocessing import StandardScaler\n",
    "from sklearn.model_selection import train_test_split\n",
    "bc = datasets.load_breast_cancer()\n",
    "x, y= bc.data, bc.target\n",
    "\n",
    "n_samples, n_features = x.shape\n",
    "# train_test split\n",
    "x_train, x_test, y_train, y_test = train_test_split(x,y, test_size= 0.2,random_state=1234)\n",
    "# scale\n",
    "sc= StandardScaler()\n",
    "x_train = sc.fit_transform(x_train)\n",
    "x_test = sc.fit_transform(x_test)\n",
    "\n",
    "x_train = torch.from_numpy(x_train.astype(np.float32))\n",
    "x_test = torch.from_numpy(x_test.astype(np.float32))\n",
    "y_train = torch.from_numpy(y_train.astype(np.float32))\n",
    "y_test = torch.from_numpy(y_test.astype(np.float32))\n",
    "\n",
    "y_train = y_train.view(y_train.shape[0],1)\n",
    "y_test = y_test.view(y_test.shape[0],1)\n",
    "\n",
    "\n",
    "class LogisticRegression(nn.Module):\n",
    "    def __init__(self,n_input_features):\n",
    "        super(LogisticRegression,self).__init__()\n",
    "        self.lin = nn.Linear(n_input_features,1)\n",
    "    def forward(self,x):\n",
    "        y_pred = torch.sigmoid(self.lin(x))\n",
    "        return y_pred\n",
    "\n",
    "model = LogisticRegression(n_features)\n",
    "learning_rate = 0.01\n",
    "criterion = nn.BCELoss()\n",
    "\n",
    "optimizer = torch.optim.SGD(model.parameters(), lr = learning_rate)\n",
    "\n",
    "num_epoch = 100\n",
    "for epoch in range(num_epoch):\n",
    "    y_pred = model(x_train)\n",
    "    loss = criterion(y_pred,y_train)\n",
    "    loss.backward()\n",
    "    optimizer.step()\n",
    "    optimizer.zero_grad()\n",
    "    if (epoch+1) % 10 == 0:\n",
    "        print(f\"epoch: {epoch+1},loss = {loss.item():.4f}\")\n",
    "with torch.no_grad():\n",
    "    y_predicted = model(x_test)\n",
    "    y_predicted_cls = y_predicted.round()\n",
    "    acc = y_predicted_cls.eq(y_test).sum()/ float(y_test.shape[0])\n",
    "    print(f'accuracy = {acc:.3f}')"
   ]
  },
  {
   "cell_type": "markdown",
   "metadata": {},
   "source": [
    "\n",
    "Where:\n",
    "- **logit[0] = 2.0** (for **cat** 🐱),\n",
    "- **logit[1] = 1.0** (for **dog** 🐶),\n",
    "- **logit[2] = 0.1** (for **fish** 🐠).\n",
    "\n",
    "The **true label** (ground truth) for this input image is **cat** (class 0).\n",
    "\n",
    "---\n",
    "\n",
    "## 🔢 Step 1: Apply Softmax Function\n",
    "\n",
    "The **softmax function** transforms the logits into probabilities. The formula for softmax for each class \\( i \\) is:\n",
    "\n",
    "<div align=\"center\">\n",
    "  \n",
    "$$\n",
    "P(y_i) = \\frac{e^{\\text{logit}_i}}{\\sum_j e^{\\text{logit}_j}}\n",
    "$$\n",
    "\n",
    "</div>\n",
    "\n",
    "Where:\n",
    "- \\( P(y_i) \\) is the probability of class \\( i \\),\n",
    "- \\( \\text{logit}_i \\) is the raw logit for class \\( i \\),\n",
    "- The denominator sums over all classes \\( j \\).\n",
    "\n",
    "### 🔹 Compute the exponentials of the logits:\n",
    "\n",
    "<div align=\"center\">\n",
    "  \n",
    "$$\n",
    "e^{\\text{logit}_0} = e^{2.0} = 7.389\n",
    "$$\n",
    "\n",
    "$$\n",
    "e^{\\text{logit}_1} = e^{1.0} = 2.718\n",
    "$$\n",
    "\n",
    "$$\n",
    "e^{\\text{logit}_2} = e^{0.1} = 1.105\n",
    "$$\n",
    "\n",
    "</div>\n",
    "\n",
    "### 🔹 Sum of exponentials:\n",
    "\n",
    "<div align=\"center\">\n",
    "\n",
    "$$\n",
    "\\sum e^{\\text{logits}} = 7.389 + 2.718 + 1.105 = 11.212\n",
    "$$\n",
    "\n",
    "</div>\n",
    "\n",
    "### 🔹 Compute the probabilities:\n",
    "\n",
    "<div align=\"center\">\n",
    "\n",
    "$$\n",
    "P(\\text{cat}) = \\frac{e^{2.0}}{\\sum e^{\\text{logits}}} = \\frac{7.389}{11.212} = 0.659\n",
    "$$\n",
    "\n",
    "$$\n",
    "P(\\text{dog}) = \\frac{e^{1.0}}{\\sum e^{\\text{logits}}} = \\frac{2.718}{11.212} = 0.242\n",
    "$$\n",
    "\n",
    "$$\n",
    "P(\\text{fish}) = \\frac{e^{0.1}}{\\sum e^{\\text{logits}}} = \\frac{1.105}{11.212} = 0.098\n",
    "$$\n",
    "\n",
    "</div>\n",
    "\n",
    "Now we have the predicted probabilities:\n",
    "\n",
    "\n",
    "### 🔹 Compute the cross-entropy loss:\n",
    "\n",
    "<div align=\"center\">\n",
    "\n",
    "$$\n",
    "L = - (t_0 \\log(P_0) + t_1 \\log(P_1) + t_2 \\log(P_2))\n",
    "$$\n",
    "\n",
    "</div>\n",
    "\n",
    "Since \\( t_1 = 0 \\) and \\( t_2 = 0 \\), those terms vanish:\n",
    "\n",
    "<div align=\"center\">\n",
    "\n",
    "$$\n",
    "L = - (1 \\times \\log(0.659) + 0 \\times \\log(0.242) + 0 \\times \\log(0.098))\n",
    "$$\n",
    "\n",
    "$$\n",
    "L = - \\log(0.659)\n",
    "$$\n",
    "\n",
    "</div>\n",
    "\n",
    "### 🔹 Compute the Logarithm:\n",
    "\n",
    "<div align=\"center\">\n",
    "\n",
    "$$\n",
    "L = -(-0.416) = 0.416\n",
    "$$\n",
    "\n",
    "</div>\n",
    "\n",
    "---\n",
    "\n",
    "## 🏆 Final Answer:\n",
    "\n",
    "The **cross-entropy loss** is:0.416\n",
    "\n",
    "\n"
   ]
  },
  {
   "cell_type": "code",
   "execution_count": 95,
   "metadata": {},
   "outputs": [
    {
     "name": "stdout",
     "output_type": "stream",
     "text": [
      "loss = 0.4170299470424652\n",
      "cat🐱\n"
     ]
    }
   ],
   "source": [
    "#  performing it using pytorch \n",
    "import torch \n",
    "import torch.nn as nn \n",
    "import numpy as np \n",
    "# nn.Crossentropy has a built in softmax so we just have to give our logits that came from a neural network so it calculates the probablity by iself\n",
    "loss  = nn.CrossEntropyLoss()\n",
    "# nsamples x nclasses = 1x3\n",
    "y = torch.tensor([0])# this is label represents first class \n",
    "#  y predicted\n",
    "y_pred = torch.tensor([[2.0,1.0,0.1]])\n",
    "l1 = loss(y_pred,y)\n",
    "\n",
    "print(f\"loss = {l1.item()}\")\n",
    "\n",
    "#  prediction meaning which class is it \n",
    "_, prediction = torch.max(y_pred,1)# mean find max in first dimension \n",
    "if prediction.item() ==0:\n",
    "    print(\"cat🐱\")\n",
    "# though loss will be optimized"
   ]
  },
  {
   "cell_type": "code",
   "execution_count": 97,
   "metadata": {},
   "outputs": [],
   "source": [
    "# for multi class problem a neural netwrok \n",
    "class NeuralNet2(nn.Module):\n",
    "    def __init__(self, input_size,hidden_size, num_classes):\n",
    "        super(NeuralNet2,self).__init__()\n",
    "        self.linear1 = nn.Linear(input_size, hidden_size)\n",
    "        self.relu = nn.ReLU()\n",
    "        self.linear2 = nn.Linear(hidden_size, num_classes)\n",
    "        \n",
    "    def forward(self,x):\n",
    "        out = self.linear1(x)\n",
    "        out = self.relu(out)\n",
    "        out = self.linear2(out)\n",
    "        return out\n",
    "model =  NeuralNet2(input_size= 28*28, hidden_size = 5, num_classes = 3)\n",
    "criterion= nn.CrossEntropyLoss()"
   ]
  },
  {
   "cell_type": "code",
   "execution_count": 119,
   "metadata": {},
   "outputs": [
    {
     "name": "stdout",
     "output_type": "stream",
     "text": [
      "torch.Size([100, 1, 28, 28]) torch.Size([100])\n"
     ]
    }
   ],
   "source": [
    "# making a feed forward neural network\n",
    "import torch \n",
    "import torch.nn as nn\n",
    "import torchvision\n",
    "import torchvision.transforms as transforms\n",
    "import matplotlib.pyplot as plt\n",
    "\n",
    "#  device config\n",
    "device = torch.device(\"cuda\" if torch.cuda.is_available() else \"cpu\")\n",
    "\n",
    "# hyper parameters \n",
    "input_size = 784\n",
    "hidden_size = 100\n",
    "num_classes = 10\n",
    "num_epochs = 2\n",
    "batch_size =100\n",
    "learning_rate = 0.001\n",
    "\n",
    "# minst\n",
    "train_dataset = torchvision.datasets.MNIST(root = \"./data\", train =True, transform = transforms.ToTensor(), download = True)\n",
    "test_dataset = torchvision.datasets.MNIST(root = \"./data\", train = False, transform = transforms.ToTensor())\n",
    "train_loader = torch.utils.data.DataLoader(dataset = train_dataset, batch_size = batch_size, shuffle = True)\n",
    "test_loader = torch.utils.data.DataLoader(dataset= test_dataset, batch_size = batch_size, shuffle = False)\n",
    "\n",
    "examples = iter(train_loader)\n",
    "samples, labels = next(examples)\n",
    "print(samples.size(),labels.shape)\n",
    "    "
   ]
  },
  {
   "cell_type": "code",
   "execution_count": 117,
   "metadata": {},
   "outputs": [
    {
     "data": {
      "image/png": "[encoded data removed]",
      "text/plain": [
       "<Figure size 640x480 with 6 Axes>"
      ]
     },
     "metadata": {},
     "output_type": "display_data"
    }
   ],
   "source": [
    "for i in range(6):\n",
    "    plt.subplot(2,3,i+1)\n",
    "    plt.imshow(samples[i][0],cmap = \"gray\")\n",
    "plt.show()"
   ]
  },
  {
   "cell_type": "code",
   "execution_count": 129,
   "metadata": {},
   "outputs": [
    {
     "name": "stdout",
     "output_type": "stream",
     "text": [
      "epoch 1/2, step 100/600, loss = 0.4916\n",
      "epoch 1/2, step 200/600, loss = 0.3487\n",
      "epoch 1/2, step 300/600, loss = 0.3769\n",
      "epoch 1/2, step 400/600, loss = 0.2464\n",
      "epoch 1/2, step 500/600, loss = 0.2032\n",
      "epoch 1/2, step 600/600, loss = 0.3461\n",
      "epoch 2/2, step 100/600, loss = 0.1511\n",
      "epoch 2/2, step 200/600, loss = 0.1552\n",
      "epoch 2/2, step 300/600, loss = 0.2482\n",
      "epoch 2/2, step 400/600, loss = 0.2121\n",
      "epoch 2/2, step 500/600, loss = 0.246\n",
      "epoch 2/2, step 600/600, loss = 0.2053\n"
     ]
    },
    {
     "ename": "RuntimeError",
     "evalue": "Expected all tensors to be on the same device, but found at least two devices, cuda:0 and cpu!",
     "output_type": "error",
     "traceback": [
      "\u001b[0;31m---------------------------------------------------------------------------\u001b[0m",
      "\u001b[0;31mRuntimeError\u001b[0m                              Traceback (most recent call last)",
      "Cell \u001b[0;32mIn[129], line 44\u001b[0m\n\u001b[1;32m     42\u001b[0m     _, predictions \u001b[38;5;241m=\u001b[39m torch\u001b[38;5;241m.\u001b[39mmax(outputs,\u001b[38;5;241m1\u001b[39m)\n\u001b[1;32m     43\u001b[0m     n_samples \u001b[38;5;241m+\u001b[39m\u001b[38;5;241m=\u001b[39m labels\u001b[38;5;241m.\u001b[39mshape[\u001b[38;5;241m0\u001b[39m]\n\u001b[0;32m---> 44\u001b[0m     n_correct \u001b[38;5;241m=\u001b[39m (\u001b[43mprediction\u001b[49m\u001b[43m \u001b[49m\u001b[38;5;241;43m==\u001b[39;49m\u001b[43m \u001b[49m\u001b[43mlabels\u001b[49m\u001b[38;5;241;43m.\u001b[39;49m\u001b[43mto\u001b[49m\u001b[43m(\u001b[49m\u001b[43mdevice\u001b[49m\u001b[43m)\u001b[49m)\u001b[38;5;241m.\u001b[39msum()\u001b[38;5;241m.\u001b[39mitem()\n\u001b[1;32m     46\u001b[0m acc \u001b[38;5;241m=\u001b[39m \u001b[38;5;241m100.0\u001b[39m \u001b[38;5;241m*\u001b[39mn_correct\u001b[38;5;241m/\u001b[39mn_samples\n\u001b[1;32m     47\u001b[0m \u001b[38;5;28mprint\u001b[39m(\u001b[38;5;124mf\u001b[39m\u001b[38;5;124m'\u001b[39m\u001b[38;5;124maccuracy = \u001b[39m\u001b[38;5;132;01m{\u001b[39;00macc\u001b[38;5;132;01m}\u001b[39;00m\u001b[38;5;124m'\u001b[39m)\n",
      "\u001b[0;31mRuntimeError\u001b[0m: Expected all tensors to be on the same device, but found at least two devices, cuda:0 and cpu!"
     ]
    }
   ],
   "source": [
    "class NeuralNet(nn.Module):\n",
    "    def __init__(self,input_size,hidden_size,num_classes):\n",
    "        super(NeuralNet,self).__init__()\n",
    "        self.linear1 = nn.Linear(input_size,hidden_size)\n",
    "        self.relu = nn.ReLU()\n",
    "        self.linear2 = nn.Linear(hidden_size,num_classes)\n",
    "    def forward(self,x):\n",
    "        out = self.linear1(x)\n",
    "        out = self.relu(out)\n",
    "        out = self.linear2(out)\n",
    "        return out \n",
    "model = NeuralNet(input_size,hidden_size,num_classes)\n",
    "model.to(device)\n",
    "criterion = nn.CrossEntropyLoss()\n",
    "optimizer = torch.optim.Adam(model.parameters(),lr = learning_rate)\n",
    "#  training loop \n",
    "n_total_steps = len(train_loader)\n",
    "for epoch in range(num_epochs):\n",
    "    for i, (images, labels) in enumerate(train_loader):\n",
    "        \n",
    "        images = images.reshape(-1, 28*28).to(device)\n",
    "        labels = labels.to(device)\n",
    "        # forward\n",
    "        outputs = model(images)\n",
    "        loss = criterion(outputs,labels)\n",
    "        # backward\n",
    "        optimizer.zero_grad()\n",
    "        loss.backward()\n",
    "        optimizer.step()\n",
    "\n",
    "        if (i+1) % 100 == 0:\n",
    "           print(f'epoch {epoch+1}/{num_epochs}, step {i+1}/{n_total_steps}, loss = {loss.item():.4}')\n",
    "\n",
    "with torch.no_grad():\n",
    "    n_correct = 0\n",
    "    n_samples = 0\n",
    "    for images,labels in test_loader:\n",
    "        images = images.reshape(-1,28*28).to(device)\n",
    "        labels = labels.to(device)\n",
    "        outputs = model(images)\n",
    "        # VALUE , INDEX\n",
    "        _, predictions = torch.max(outputs,1)\n",
    "        n_samples += labels.shape[0]\n",
    "        n_correct = (prediction == labels.to(device)).sum().item()\n",
    "\n",
    "    acc = 100.0 *n_correct/n_samples\n",
    "    print(f'accuracy = {acc}')"
   ]
  },
  {
   "cell_type": "code",
   "execution_count": null,
   "metadata": {},
   "outputs": [],
   "source": [
    "with torch.no_grad():\n",
    "    n_correct = 0\n",
    "    n_samples = 0\n",
    "    for images,labels in test_loader:\n",
    "        images = images.reshape(-1,28*28).to(device)\n",
    "        labels = labels.to(device)\n",
    "        outputs = model(images)\n",
    "        # VALUE , INDEX\n",
    "        _, predictions = torch.max(outputs,1)\n",
    "        n_samples += labels.shape[0]\n",
    "        n_correct = (prediction == labels.to(device)).sum().item()\n",
    "\n",
    "    acc = 100.0 *n_correct/n_samples\n",
    "    print(f'accuracy = {acc}')"
   ]
  },
  {
   "cell_type": "code",
   "execution_count": 132,
   "metadata": {},
   "outputs": [
    {
     "name": "stdout",
     "output_type": "stream",
     "text": [
      "Accuracy = 95.29%\n"
     ]
    }
   ],
   "source": [
    "with torch.no_grad():\n",
    "    n_correct = 0\n",
    "    n_samples = 0\n",
    "    for images, labels in test_loader:\n",
    "        images = images.reshape(-1, 28*28).to(device)\n",
    "        labels = labels.to(device)\n",
    "        outputs = model(images)\n",
    "        \n",
    "        # value, index\n",
    "        _, predicted = torch.max(outputs, 1)\n",
    "        \n",
    "        # Update totals\n",
    "        n_samples += labels.shape[0]\n",
    "        n_correct += (predicted == labels).sum().item()\n",
    "\n",
    "    acc = 100.0 * n_correct / n_samples\n",
    "    print(f\"Accuracy = {acc:.2f}%\")\n"
   ]
  },
  {
   "cell_type": "markdown",
   "metadata": {},
   "source": [
    "```markdown\n",
    "# CNN Architecture: Tensor Shape Changes Step-by-Step\n",
    "\n",
    "## **Step 1: Input Tensor**\n",
    "\n",
    "The input tensor has shape:\n",
    "\n",
    "```\n",
    "[4, 3, 32, 32]\n",
    "```\n",
    "\n",
    "where:\n",
    "- **4** → Batch size (number of images)\n",
    "- **3** → Number of input channels (RGB)\n",
    "- **32 × 32** → Image dimensions\n",
    "\n",
    "---\n",
    "\n",
    "## **Step 2: First Convolution Layer (conv1)**\n",
    "\n",
    "```python\n",
    "self.conv1 = nn.Conv2d(3,6,5)\n",
    "```\n",
    "\n",
    "- This applies **6 filters** of size **5×5** with **stride=1, padding=0**.\n",
    "- Formula for output size (H' & W'):\n",
    "$$\n",
    "  \\[ H' = \\frac{H - \\text{kernel size} + 2 \\times \\text{padding}}{\\text{stride}} + 1 \\]\n",
    "  \\[ W' = \\frac{W - \\text{kernel size} + 2 \\times \\text{padding}}{\\text{stride}} + 1 \\]\n",
    "$$\n",
    "$$\n",
    "  **Substituting values:**\n",
    "  \\[ H' = \\frac{32 - 5 + 0}{1} + 1 = 28 \\]\n",
    "  \\[ W' = \\frac{32 - 5 + 0}{1} + 1 = 28 \\]\n",
    "$$\n",
    "**Output Shape After conv1:**\n",
    "```\n",
    "[4, 6, 28, 28]\n",
    "```\n",
    "\n",
    "---\n",
    "\n",
    "## **Step 3: First Max Pooling Layer (pool)**\n",
    "\n",
    "```python\n",
    "self.pool = nn.MaxPool2d(2,2)\n",
    "```\n",
    "\n",
    "- This applies a **2×2 max pooling** with **stride=2**.\n",
    "- Pooling reduces each **2×2 region** to a **single value**, effectively halving height and width.\n",
    "$$\n",
    "  \\[ H' = \\frac{28}{2} = 14, \\quad W' = \\frac{28}{2} = 14 \\]\n",
    "$$\n",
    "**Output Shape After Pooling:**\n",
    "```\n",
    "[4, 6, 14, 14]\n",
    "```\n",
    "\n",
    "---\n",
    "\n",
    "## **Step 4: Second Convolution Layer (conv2)**\n",
    "\n",
    "```python\n",
    "self.conv2 = nn.Conv2d(6,16,5)\n",
    "```\n",
    "\n",
    "- This applies **16 filters** of size **5×5** with **stride=1, padding=0**.\n",
    "- Using the formula:\n",
    "$$\n",
    "  \\[ H' = \\frac{14 - 5 + 0}{1} + 1 = 10 \\]\n",
    "  \\[ W' = \\frac{14 - 5 + 0}{1} + 1 = 10 \\]\n",
    "$$\n",
    "**Output Shape After conv2:**\n",
    "```\n",
    "[4, 16, 10, 10]\n",
    "```\n",
    "\n",
    "---\n",
    "\n",
    "## **Step 5: Second Max Pooling Layer (pool)**\n",
    "\n",
    "```python\n",
    "x = self.pool(F.relu(self.conv2(x)))\n",
    "```\n",
    "\n",
    "- Again, applying **2×2 max pooling** with **stride=2**:\n",
    "$$\n",
    "  \\[ H' = \\frac{10}{2} = 5, \\quad W' = \\frac{10}{2} = 5 \\]\n",
    "$$\n",
    "**Output Shape After Pooling:**\n",
    "```\n",
    "[4, 16, 5, 5]\n",
    "```\n",
    "\n",
    "---\n",
    "\n",
    "## **Step 6: Flattening the Tensor (view)**\n",
    "\n",
    "```python\n",
    "x = x.view(-1,16*5*5)\n",
    "```\n",
    "\n",
    "- The tensor is **reshaped (flattened)** to prepare it for the fully connected layers.\n",
    "- The **16×5×5** feature maps are flattened into a vector.\n",
    "\n",
    "  **Since the batch size remains 4, the shape becomes:**\n",
    "```\n",
    "[4, 400]  # (because 16×5×5=400)\n",
    "```\n",
    "\n",
    "---\n",
    "\n",
    "## **Step 7: First Fully Connected Layer (fc1)**\n",
    "\n",
    "```python\n",
    "self.fc1 = nn.Linear(16*5*5, 120)\n",
    "x = F.relu(self.fc1(x))\n",
    "```\n",
    "\n",
    "- **Input:** `[4, 400]`\n",
    "- **Output:** `[4, 120]` (because `fc1` has 120 neurons)\n",
    "\n",
    "---\n",
    "\n",
    "## **Step 8: Second Fully Connected Layer (fc2)**\n",
    "\n",
    "```python\n",
    "self.fc2 = nn.Linear(120, 84)\n",
    "x = F.relu(self.fc2(x))\n",
    "```\n",
    "\n",
    "- **Input:** `[4, 120]`\n",
    "- **Output:** `[4, 84]` (because `fc2` has 84 neurons)\n",
    "\n",
    "---\n",
    "\n",
    "## **Step 9: Third Fully Connected Layer (fc3)**\n",
    "\n",
    "```python\n",
    "self.fc3 = nn.Linear(84, 10)\n",
    "x = self.fc3(x)\n",
    "```\n",
    "\n",
    "- **Input:** `[4, 84]`\n",
    "- **Output:** `[4, 10]` (because `fc3` has 10 neurons for classification into 10 classes)\n",
    "\n",
    "---\n",
    "\n",
    "## **Final Summary of Tensor Shape Changes**\n",
    "\n",
    "| Layer          | Operation             | Output Shape    |\n",
    "|---------------|----------------------|----------------|\n",
    "| **Input**      | Raw image batch       | `[4, 3, 32, 32]`  |\n",
    "| **Conv1**      | `nn.Conv2d(3,6,5)`   | `[4, 6, 28, 28]`  |\n",
    "| **MaxPool1**   | `nn.MaxPool2d(2,2)`  | `[4, 6, 14, 14]`  |\n",
    "| **Conv2**      | `nn.Conv2d(6,16,5)`  | `[4, 16, 10, 10]` |\n",
    "| **MaxPool2**   | `nn.MaxPool2d(2,2)`  | `[4, 16, 5, 5]`   |\n",
    "| **Flatten**    | `x.view(-1,16*5*5)`  | `[4, 400]`        |\n",
    "| **FC1**        | `nn.Linear(400, 120)` | `[4, 120]`        |\n",
    "| **FC2**        | `nn.Linear(120, 84)`  | `[4, 84]`         |\n",
    "| **FC3 (Output)** | `nn.Linear(84, 10)`  | `[4, 10]`         |\n",
    "\n",
    "---\n",
    "\n",
    "## **Final Output Explanation**\n",
    "- The final output shape is **[4, 10]**, meaning that for each of the 4 images, we have **10 class scores** (for classification).\n",
    "- The output of `fc3` is usually followed by **softmax** (if using classification) to get class probabilities.\n",
    "\n",
    "```python\n",
    "output = F.softmax(x, dim=1)  # Converts scores to probabilities\n",
    "```\n",
    "\n",
    "---\n",
    "\n",
    "### 🚀 Now you can run this in a Jupyter Notebook and visualize the shape changes! 🚀\n",
    "```\n",
    "\n"
   ]
  },
  {
   "cell_type": "code",
   "execution_count": 134,
   "metadata": {
    "scrolled": true
   },
   "outputs": [
    {
     "name": "stdout",
     "output_type": "stream",
     "text": [
      "Files already downloaded and verified\n",
      "epoch 1/4, step 100/12500, loss = 2.323\n",
      "epoch 1/4, step 200/12500, loss = 2.267\n",
      "epoch 1/4, step 300/12500, loss = 2.341\n",
      "epoch 1/4, step 400/12500, loss = 2.302\n",
      "epoch 1/4, step 500/12500, loss = 2.32\n",
      "epoch 1/4, step 600/12500, loss = 2.256\n",
      "epoch 1/4, step 700/12500, loss = 2.322\n",
      "epoch 1/4, step 800/12500, loss = 2.316\n",
      "epoch 1/4, step 900/12500, loss = 2.289\n",
      "epoch 1/4, step 1000/12500, loss = 2.282\n",
      "epoch 1/4, step 1100/12500, loss = 2.344\n",
      "epoch 1/4, step 1200/12500, loss = 2.332\n",
      "epoch 1/4, step 1300/12500, loss = 2.278\n",
      "epoch 1/4, step 1400/12500, loss = 2.306\n",
      "epoch 1/4, step 1500/12500, loss = 2.315\n",
      "epoch 1/4, step 1600/12500, loss = 2.355\n",
      "epoch 1/4, step 1700/12500, loss = 2.305\n",
      "epoch 1/4, step 1800/12500, loss = 2.301\n",
      "epoch 1/4, step 1900/12500, loss = 2.296\n",
      "epoch 1/4, step 2000/12500, loss = 2.31\n",
      "epoch 1/4, step 2100/12500, loss = 2.337\n",
      "epoch 1/4, step 2200/12500, loss = 2.316\n",
      "epoch 1/4, step 2300/12500, loss = 2.301\n",
      "epoch 1/4, step 2400/12500, loss = 2.311\n",
      "epoch 1/4, step 2500/12500, loss = 2.319\n",
      "epoch 1/4, step 2600/12500, loss = 2.308\n",
      "epoch 1/4, step 2700/12500, loss = 2.293\n",
      "epoch 1/4, step 2800/12500, loss = 2.261\n",
      "epoch 1/4, step 2900/12500, loss = 2.289\n",
      "epoch 1/4, step 3000/12500, loss = 2.308\n",
      "epoch 1/4, step 3100/12500, loss = 2.298\n",
      "epoch 1/4, step 3200/12500, loss = 2.312\n",
      "epoch 1/4, step 3300/12500, loss = 2.304\n",
      "epoch 1/4, step 3400/12500, loss = 2.31\n",
      "epoch 1/4, step 3500/12500, loss = 2.265\n",
      "epoch 1/4, step 3600/12500, loss = 2.28\n",
      "epoch 1/4, step 3700/12500, loss = 2.287\n",
      "epoch 1/4, step 3800/12500, loss = 2.267\n",
      "epoch 1/4, step 3900/12500, loss = 2.298\n",
      "epoch 1/4, step 4000/12500, loss = 2.318\n",
      "epoch 1/4, step 4100/12500, loss = 2.326\n",
      "epoch 1/4, step 4200/12500, loss = 2.268\n",
      "epoch 1/4, step 4300/12500, loss = 2.316\n",
      "epoch 1/4, step 4400/12500, loss = 2.323\n",
      "epoch 1/4, step 4500/12500, loss = 2.295\n",
      "epoch 1/4, step 4600/12500, loss = 2.302\n",
      "epoch 1/4, step 4700/12500, loss = 2.312\n",
      "epoch 1/4, step 4800/12500, loss = 2.303\n",
      "epoch 1/4, step 4900/12500, loss = 2.294\n",
      "epoch 1/4, step 5000/12500, loss = 2.305\n",
      "epoch 1/4, step 5100/12500, loss = 2.306\n",
      "epoch 1/4, step 5200/12500, loss = 2.325\n",
      "epoch 1/4, step 5300/12500, loss = 2.273\n",
      "epoch 1/4, step 5400/12500, loss = 2.292\n",
      "epoch 1/4, step 5500/12500, loss = 2.281\n",
      "epoch 1/4, step 5600/12500, loss = 2.3\n",
      "epoch 1/4, step 5700/12500, loss = 2.313\n",
      "epoch 1/4, step 5800/12500, loss = 2.305\n",
      "epoch 1/4, step 5900/12500, loss = 2.319\n",
      "epoch 1/4, step 6000/12500, loss = 2.294\n",
      "epoch 1/4, step 6100/12500, loss = 2.286\n",
      "epoch 1/4, step 6200/12500, loss = 2.293\n",
      "epoch 1/4, step 6300/12500, loss = 2.3\n",
      "epoch 1/4, step 6400/12500, loss = 2.303\n",
      "epoch 1/4, step 6500/12500, loss = 2.313\n",
      "epoch 1/4, step 6600/12500, loss = 2.317\n",
      "epoch 1/4, step 6700/12500, loss = 2.354\n",
      "epoch 1/4, step 6800/12500, loss = 2.296\n",
      "epoch 1/4, step 6900/12500, loss = 2.323\n",
      "epoch 1/4, step 7000/12500, loss = 2.291\n",
      "epoch 1/4, step 7100/12500, loss = 2.279\n",
      "epoch 1/4, step 7200/12500, loss = 2.312\n",
      "epoch 1/4, step 7300/12500, loss = 2.302\n",
      "epoch 1/4, step 7400/12500, loss = 2.295\n",
      "epoch 1/4, step 7500/12500, loss = 2.291\n",
      "epoch 1/4, step 7600/12500, loss = 2.291\n",
      "epoch 1/4, step 7700/12500, loss = 2.302\n",
      "epoch 1/4, step 7800/12500, loss = 2.288\n",
      "epoch 1/4, step 7900/12500, loss = 2.297\n",
      "epoch 1/4, step 8000/12500, loss = 2.287\n",
      "epoch 1/4, step 8100/12500, loss = 2.264\n",
      "epoch 1/4, step 8200/12500, loss = 2.283\n",
      "epoch 1/4, step 8300/12500, loss = 2.297\n",
      "epoch 1/4, step 8400/12500, loss = 2.299\n",
      "epoch 1/4, step 8500/12500, loss = 2.273\n",
      "epoch 1/4, step 8600/12500, loss = 2.29\n",
      "epoch 1/4, step 8700/12500, loss = 2.33\n",
      "epoch 1/4, step 8800/12500, loss = 2.299\n",
      "epoch 1/4, step 8900/12500, loss = 2.267\n",
      "epoch 1/4, step 9000/12500, loss = 2.277\n",
      "epoch 1/4, step 9100/12500, loss = 2.259\n",
      "epoch 1/4, step 9200/12500, loss = 2.281\n",
      "epoch 1/4, step 9300/12500, loss = 2.27\n",
      "epoch 1/4, step 9400/12500, loss = 2.277\n",
      "epoch 1/4, step 9500/12500, loss = 2.241\n",
      "epoch 1/4, step 9600/12500, loss = 2.288\n",
      "epoch 1/4, step 9700/12500, loss = 2.268\n",
      "epoch 1/4, step 9800/12500, loss = 2.307\n",
      "epoch 1/4, step 9900/12500, loss = 2.248\n",
      "epoch 1/4, step 10000/12500, loss = 2.237\n",
      "epoch 1/4, step 10100/12500, loss = 2.177\n",
      "epoch 1/4, step 10200/12500, loss = 2.226\n",
      "epoch 1/4, step 10300/12500, loss = 2.318\n",
      "epoch 1/4, step 10400/12500, loss = 2.278\n",
      "epoch 1/4, step 10500/12500, loss = 2.318\n",
      "epoch 1/4, step 10600/12500, loss = 2.256\n",
      "epoch 1/4, step 10700/12500, loss = 2.235\n",
      "epoch 1/4, step 10800/12500, loss = 2.242\n",
      "epoch 1/4, step 10900/12500, loss = 2.239\n",
      "epoch 1/4, step 11000/12500, loss = 2.336\n",
      "epoch 1/4, step 11100/12500, loss = 2.174\n",
      "epoch 1/4, step 11200/12500, loss = 2.223\n",
      "epoch 1/4, step 11300/12500, loss = 2.35\n",
      "epoch 1/4, step 11400/12500, loss = 2.268\n",
      "epoch 1/4, step 11500/12500, loss = 2.215\n",
      "epoch 1/4, step 11600/12500, loss = 2.286\n",
      "epoch 1/4, step 11700/12500, loss = 1.864\n",
      "epoch 1/4, step 11800/12500, loss = 2.361\n",
      "epoch 1/4, step 11900/12500, loss = 2.335\n",
      "epoch 1/4, step 12000/12500, loss = 2.107\n",
      "epoch 1/4, step 12100/12500, loss = 2.325\n",
      "epoch 1/4, step 12200/12500, loss = 2.18\n",
      "epoch 1/4, step 12300/12500, loss = 2.064\n",
      "epoch 1/4, step 12400/12500, loss = 2.065\n",
      "epoch 1/4, step 12500/12500, loss = 1.848\n",
      "epoch 2/4, step 100/12500, loss = 2.36\n",
      "epoch 2/4, step 200/12500, loss = 1.849\n",
      "epoch 2/4, step 300/12500, loss = 2.058\n",
      "epoch 2/4, step 400/12500, loss = 2.183\n",
      "epoch 2/4, step 500/12500, loss = 2.095\n",
      "epoch 2/4, step 600/12500, loss = 2.094\n",
      "epoch 2/4, step 700/12500, loss = 1.86\n",
      "epoch 2/4, step 800/12500, loss = 2.486\n",
      "epoch 2/4, step 900/12500, loss = 2.001\n",
      "epoch 2/4, step 1000/12500, loss = 2.432\n",
      "epoch 2/4, step 1100/12500, loss = 1.994\n",
      "epoch 2/4, step 1200/12500, loss = 2.063\n",
      "epoch 2/4, step 1300/12500, loss = 2.52\n",
      "epoch 2/4, step 1400/12500, loss = 2.129\n",
      "epoch 2/4, step 1500/12500, loss = 1.847\n",
      "epoch 2/4, step 1600/12500, loss = 2.556\n",
      "epoch 2/4, step 1700/12500, loss = 2.306\n",
      "epoch 2/4, step 1800/12500, loss = 2.125\n",
      "epoch 2/4, step 1900/12500, loss = 2.089\n",
      "epoch 2/4, step 2000/12500, loss = 2.37\n",
      "epoch 2/4, step 2100/12500, loss = 1.256\n",
      "epoch 2/4, step 2200/12500, loss = 1.714\n",
      "epoch 2/4, step 2300/12500, loss = 1.574\n",
      "epoch 2/4, step 2400/12500, loss = 1.832\n",
      "epoch 2/4, step 2500/12500, loss = 1.757\n",
      "epoch 2/4, step 2600/12500, loss = 2.246\n",
      "epoch 2/4, step 2700/12500, loss = 2.144\n",
      "epoch 2/4, step 2800/12500, loss = 2.135\n",
      "epoch 2/4, step 2900/12500, loss = 1.602\n",
      "epoch 2/4, step 3000/12500, loss = 1.764\n",
      "epoch 2/4, step 3100/12500, loss = 1.742\n",
      "epoch 2/4, step 3200/12500, loss = 2.3\n",
      "epoch 2/4, step 3300/12500, loss = 2.095\n",
      "epoch 2/4, step 3400/12500, loss = 1.659\n",
      "epoch 2/4, step 3500/12500, loss = 2.127\n",
      "epoch 2/4, step 3600/12500, loss = 1.942\n",
      "epoch 2/4, step 3700/12500, loss = 1.83\n",
      "epoch 2/4, step 3800/12500, loss = 1.786\n",
      "epoch 2/4, step 3900/12500, loss = 2.029\n",
      "epoch 2/4, step 4000/12500, loss = 2.258\n",
      "epoch 2/4, step 4100/12500, loss = 1.886\n",
      "epoch 2/4, step 4200/12500, loss = 2.02\n",
      "epoch 2/4, step 4300/12500, loss = 2.245\n",
      "epoch 2/4, step 4400/12500, loss = 2.234\n",
      "epoch 2/4, step 4500/12500, loss = 1.554\n",
      "epoch 2/4, step 4600/12500, loss = 2.231\n",
      "epoch 2/4, step 4700/12500, loss = 2.383\n",
      "epoch 2/4, step 4800/12500, loss = 2.022\n",
      "epoch 2/4, step 4900/12500, loss = 1.538\n",
      "epoch 2/4, step 5000/12500, loss = 2.23\n",
      "epoch 2/4, step 5100/12500, loss = 2.371\n",
      "epoch 2/4, step 5200/12500, loss = 2.413\n",
      "epoch 2/4, step 5300/12500, loss = 1.803\n",
      "epoch 2/4, step 5400/12500, loss = 1.426\n",
      "epoch 2/4, step 5500/12500, loss = 2.414\n",
      "epoch 2/4, step 5600/12500, loss = 1.226\n",
      "epoch 2/4, step 5700/12500, loss = 1.729\n",
      "epoch 2/4, step 5800/12500, loss = 1.814\n",
      "epoch 2/4, step 5900/12500, loss = 2.209\n",
      "epoch 2/4, step 6000/12500, loss = 2.06\n",
      "epoch 2/4, step 6100/12500, loss = 2.234\n",
      "epoch 2/4, step 6200/12500, loss = 2.288\n",
      "epoch 2/4, step 6300/12500, loss = 1.441\n",
      "epoch 2/4, step 6400/12500, loss = 1.277\n",
      "epoch 2/4, step 6500/12500, loss = 2.585\n",
      "epoch 2/4, step 6600/12500, loss = 2.713\n",
      "epoch 2/4, step 6700/12500, loss = 2.001\n",
      "epoch 2/4, step 6800/12500, loss = 1.267\n",
      "epoch 2/4, step 6900/12500, loss = 1.205\n",
      "epoch 2/4, step 7000/12500, loss = 1.695\n",
      "epoch 2/4, step 7100/12500, loss = 1.435\n",
      "epoch 2/4, step 7200/12500, loss = 1.99\n",
      "epoch 2/4, step 7300/12500, loss = 1.573\n",
      "epoch 2/4, step 7400/12500, loss = 2.14\n",
      "epoch 2/4, step 7500/12500, loss = 2.764\n",
      "epoch 2/4, step 7600/12500, loss = 1.641\n",
      "epoch 2/4, step 7700/12500, loss = 2.384\n",
      "epoch 2/4, step 7800/12500, loss = 1.788\n",
      "epoch 2/4, step 7900/12500, loss = 1.541\n",
      "epoch 2/4, step 8000/12500, loss = 2.042\n",
      "epoch 2/4, step 8100/12500, loss = 1.579\n",
      "epoch 2/4, step 8200/12500, loss = 2.166\n",
      "epoch 2/4, step 8300/12500, loss = 2.292\n",
      "epoch 2/4, step 8400/12500, loss = 2.094\n",
      "epoch 2/4, step 8500/12500, loss = 1.887\n",
      "epoch 2/4, step 8600/12500, loss = 1.237\n",
      "epoch 2/4, step 8700/12500, loss = 1.716\n",
      "epoch 2/4, step 8800/12500, loss = 1.794\n",
      "epoch 2/4, step 8900/12500, loss = 1.681\n",
      "epoch 2/4, step 9000/12500, loss = 1.373\n",
      "epoch 2/4, step 9100/12500, loss = 2.313\n",
      "epoch 2/4, step 9200/12500, loss = 1.613\n",
      "epoch 2/4, step 9300/12500, loss = 1.731\n",
      "epoch 2/4, step 9400/12500, loss = 1.908\n",
      "epoch 2/4, step 9500/12500, loss = 1.712\n",
      "epoch 2/4, step 9600/12500, loss = 1.682\n",
      "epoch 2/4, step 9700/12500, loss = 1.723\n",
      "epoch 2/4, step 9800/12500, loss = 1.788\n",
      "epoch 2/4, step 9900/12500, loss = 1.636\n",
      "epoch 2/4, step 10000/12500, loss = 0.965\n",
      "epoch 2/4, step 10100/12500, loss = 2.507\n",
      "epoch 2/4, step 10200/12500, loss = 2.501\n",
      "epoch 2/4, step 10300/12500, loss = 1.69\n",
      "epoch 2/4, step 10400/12500, loss = 2.038\n",
      "epoch 2/4, step 10500/12500, loss = 2.357\n",
      "epoch 2/4, step 10600/12500, loss = 1.644\n",
      "epoch 2/4, step 10700/12500, loss = 2.03\n",
      "epoch 2/4, step 10800/12500, loss = 1.127\n",
      "epoch 2/4, step 10900/12500, loss = 2.349\n",
      "epoch 2/4, step 11000/12500, loss = 1.573\n",
      "epoch 2/4, step 11100/12500, loss = 1.585\n",
      "epoch 2/4, step 11200/12500, loss = 1.703\n",
      "epoch 2/4, step 11300/12500, loss = 2.048\n",
      "epoch 2/4, step 11400/12500, loss = 2.27\n",
      "epoch 2/4, step 11500/12500, loss = 2.261\n",
      "epoch 2/4, step 11600/12500, loss = 1.89\n",
      "epoch 2/4, step 11700/12500, loss = 1.921\n",
      "epoch 2/4, step 11800/12500, loss = 1.466\n",
      "epoch 2/4, step 11900/12500, loss = 2.326\n",
      "epoch 2/4, step 12000/12500, loss = 3.266\n",
      "epoch 2/4, step 12100/12500, loss = 1.669\n",
      "epoch 2/4, step 12200/12500, loss = 2.324\n",
      "epoch 2/4, step 12300/12500, loss = 1.764\n",
      "epoch 2/4, step 12400/12500, loss = 1.306\n",
      "epoch 2/4, step 12500/12500, loss = 1.768\n",
      "epoch 3/4, step 100/12500, loss = 1.063\n",
      "epoch 3/4, step 200/12500, loss = 1.907\n",
      "epoch 3/4, step 300/12500, loss = 1.507\n",
      "epoch 3/4, step 400/12500, loss = 1.324\n",
      "epoch 3/4, step 500/12500, loss = 2.104\n",
      "epoch 3/4, step 600/12500, loss = 1.745\n",
      "epoch 3/4, step 700/12500, loss = 1.56\n",
      "epoch 3/4, step 800/12500, loss = 1.989\n",
      "epoch 3/4, step 900/12500, loss = 1.623\n",
      "epoch 3/4, step 1000/12500, loss = 2.323\n",
      "epoch 3/4, step 1100/12500, loss = 1.292\n",
      "epoch 3/4, step 1200/12500, loss = 1.475\n",
      "epoch 3/4, step 1300/12500, loss = 2.384\n",
      "epoch 3/4, step 1400/12500, loss = 1.494\n",
      "epoch 3/4, step 1500/12500, loss = 3.025\n",
      "epoch 3/4, step 1600/12500, loss = 2.441\n",
      "epoch 3/4, step 1700/12500, loss = 1.365\n",
      "epoch 3/4, step 1800/12500, loss = 1.163\n",
      "epoch 3/4, step 1900/12500, loss = 1.479\n",
      "epoch 3/4, step 2000/12500, loss = 1.846\n",
      "epoch 3/4, step 2100/12500, loss = 1.814\n",
      "epoch 3/4, step 2200/12500, loss = 1.803\n",
      "epoch 3/4, step 2300/12500, loss = 2.288\n",
      "epoch 3/4, step 2400/12500, loss = 1.773\n",
      "epoch 3/4, step 2500/12500, loss = 1.386\n",
      "epoch 3/4, step 2600/12500, loss = 1.435\n",
      "epoch 3/4, step 2700/12500, loss = 1.924\n",
      "epoch 3/4, step 2800/12500, loss = 1.835\n",
      "epoch 3/4, step 2900/12500, loss = 1.333\n",
      "epoch 3/4, step 3000/12500, loss = 2.071\n",
      "epoch 3/4, step 3100/12500, loss = 1.63\n",
      "epoch 3/4, step 3200/12500, loss = 2.591\n",
      "epoch 3/4, step 3300/12500, loss = 1.33\n",
      "epoch 3/4, step 3400/12500, loss = 2.122\n",
      "epoch 3/4, step 3500/12500, loss = 2.256\n",
      "epoch 3/4, step 3600/12500, loss = 1.434\n",
      "epoch 3/4, step 3700/12500, loss = 0.994\n",
      "epoch 3/4, step 3800/12500, loss = 1.892\n",
      "epoch 3/4, step 3900/12500, loss = 1.384\n",
      "epoch 3/4, step 4000/12500, loss = 1.501\n",
      "epoch 3/4, step 4100/12500, loss = 1.318\n",
      "epoch 3/4, step 4200/12500, loss = 2.091\n",
      "epoch 3/4, step 4300/12500, loss = 1.528\n",
      "epoch 3/4, step 4400/12500, loss = 1.736\n",
      "epoch 3/4, step 4500/12500, loss = 2.369\n",
      "epoch 3/4, step 4600/12500, loss = 2.291\n",
      "epoch 3/4, step 4700/12500, loss = 1.087\n",
      "epoch 3/4, step 4800/12500, loss = 1.558\n",
      "epoch 3/4, step 4900/12500, loss = 2.714\n",
      "epoch 3/4, step 5000/12500, loss = 1.745\n",
      "epoch 3/4, step 5100/12500, loss = 2.244\n",
      "epoch 3/4, step 5200/12500, loss = 2.999\n",
      "epoch 3/4, step 5300/12500, loss = 1.829\n",
      "epoch 3/4, step 5400/12500, loss = 1.556\n",
      "epoch 3/4, step 5500/12500, loss = 1.348\n",
      "epoch 3/4, step 5600/12500, loss = 2.024\n",
      "epoch 3/4, step 5700/12500, loss = 0.9089\n",
      "epoch 3/4, step 5800/12500, loss = 1.777\n",
      "epoch 3/4, step 5900/12500, loss = 0.9018\n",
      "epoch 3/4, step 6000/12500, loss = 1.432\n",
      "epoch 3/4, step 6100/12500, loss = 1.384\n",
      "epoch 3/4, step 6200/12500, loss = 1.08\n",
      "epoch 3/4, step 6300/12500, loss = 2.061\n",
      "epoch 3/4, step 6400/12500, loss = 2.258\n",
      "epoch 3/4, step 6500/12500, loss = 1.265\n",
      "epoch 3/4, step 6600/12500, loss = 1.925\n",
      "epoch 3/4, step 6700/12500, loss = 2.065\n",
      "epoch 3/4, step 6800/12500, loss = 1.845\n",
      "epoch 3/4, step 6900/12500, loss = 1.689\n",
      "epoch 3/4, step 7000/12500, loss = 1.618\n",
      "epoch 3/4, step 7100/12500, loss = 1.202\n",
      "epoch 3/4, step 7200/12500, loss = 0.8945\n",
      "epoch 3/4, step 7300/12500, loss = 1.349\n",
      "epoch 3/4, step 7400/12500, loss = 1.739\n",
      "epoch 3/4, step 7500/12500, loss = 2.323\n",
      "epoch 3/4, step 7600/12500, loss = 2.367\n",
      "epoch 3/4, step 7700/12500, loss = 1.241\n",
      "epoch 3/4, step 7800/12500, loss = 1.072\n",
      "epoch 3/4, step 7900/12500, loss = 0.9013\n",
      "epoch 3/4, step 8000/12500, loss = 1.877\n",
      "epoch 3/4, step 8100/12500, loss = 1.343\n",
      "epoch 3/4, step 8200/12500, loss = 2.401\n",
      "epoch 3/4, step 8300/12500, loss = 1.155\n",
      "epoch 3/4, step 8400/12500, loss = 1.79\n",
      "epoch 3/4, step 8500/12500, loss = 1.574\n",
      "epoch 3/4, step 8600/12500, loss = 1.468\n",
      "epoch 3/4, step 8700/12500, loss = 1.438\n",
      "epoch 3/4, step 8800/12500, loss = 1.301\n",
      "epoch 3/4, step 8900/12500, loss = 1.65\n",
      "epoch 3/4, step 9000/12500, loss = 1.045\n",
      "epoch 3/4, step 9100/12500, loss = 1.21\n",
      "epoch 3/4, step 9200/12500, loss = 2.258\n",
      "epoch 3/4, step 9300/12500, loss = 1.859\n",
      "epoch 3/4, step 9400/12500, loss = 1.401\n",
      "epoch 3/4, step 9500/12500, loss = 1.573\n",
      "epoch 3/4, step 9600/12500, loss = 1.669\n",
      "epoch 3/4, step 9700/12500, loss = 1.111\n",
      "epoch 3/4, step 9800/12500, loss = 0.9401\n",
      "epoch 3/4, step 9900/12500, loss = 1.374\n",
      "epoch 3/4, step 10000/12500, loss = 2.024\n",
      "epoch 3/4, step 10100/12500, loss = 1.679\n",
      "epoch 3/4, step 10200/12500, loss = 1.725\n",
      "epoch 3/4, step 10300/12500, loss = 2.31\n",
      "epoch 3/4, step 10400/12500, loss = 1.431\n",
      "epoch 3/4, step 10500/12500, loss = 3.022\n",
      "epoch 3/4, step 10600/12500, loss = 2.037\n",
      "epoch 3/4, step 10700/12500, loss = 2.047\n",
      "epoch 3/4, step 10800/12500, loss = 2.232\n",
      "epoch 3/4, step 10900/12500, loss = 1.025\n",
      "epoch 3/4, step 11000/12500, loss = 1.3\n",
      "epoch 3/4, step 11100/12500, loss = 1.392\n",
      "epoch 3/4, step 11200/12500, loss = 1.475\n",
      "epoch 3/4, step 11300/12500, loss = 1.191\n",
      "epoch 3/4, step 11400/12500, loss = 1.453\n",
      "epoch 3/4, step 11500/12500, loss = 1.04\n",
      "epoch 3/4, step 11600/12500, loss = 0.8186\n",
      "epoch 3/4, step 11700/12500, loss = 2.091\n",
      "epoch 3/4, step 11800/12500, loss = 1.368\n",
      "epoch 3/4, step 11900/12500, loss = 1.029\n",
      "epoch 3/4, step 12000/12500, loss = 1.784\n",
      "epoch 3/4, step 12100/12500, loss = 1.91\n",
      "epoch 3/4, step 12200/12500, loss = 1.913\n",
      "epoch 3/4, step 12300/12500, loss = 1.084\n",
      "epoch 3/4, step 12400/12500, loss = 0.9856\n",
      "epoch 3/4, step 12500/12500, loss = 1.573\n",
      "epoch 4/4, step 100/12500, loss = 1.768\n",
      "epoch 4/4, step 200/12500, loss = 1.621\n",
      "epoch 4/4, step 300/12500, loss = 1.102\n",
      "epoch 4/4, step 400/12500, loss = 2.502\n",
      "epoch 4/4, step 500/12500, loss = 1.732\n",
      "epoch 4/4, step 600/12500, loss = 2.038\n",
      "epoch 4/4, step 700/12500, loss = 1.567\n",
      "epoch 4/4, step 800/12500, loss = 1.597\n",
      "epoch 4/4, step 900/12500, loss = 1.751\n",
      "epoch 4/4, step 1000/12500, loss = 1.111\n",
      "epoch 4/4, step 1100/12500, loss = 1.142\n",
      "epoch 4/4, step 1200/12500, loss = 0.893\n",
      "epoch 4/4, step 1300/12500, loss = 2.172\n",
      "epoch 4/4, step 1400/12500, loss = 1.716\n",
      "epoch 4/4, step 1500/12500, loss = 0.9989\n",
      "epoch 4/4, step 1600/12500, loss = 1.535\n",
      "epoch 4/4, step 1700/12500, loss = 1.32\n",
      "epoch 4/4, step 1800/12500, loss = 1.568\n",
      "epoch 4/4, step 1900/12500, loss = 1.989\n",
      "epoch 4/4, step 2000/12500, loss = 3.199\n",
      "epoch 4/4, step 2100/12500, loss = 2.042\n",
      "epoch 4/4, step 2200/12500, loss = 1.098\n",
      "epoch 4/4, step 2300/12500, loss = 1.051\n",
      "epoch 4/4, step 2400/12500, loss = 1.884\n",
      "epoch 4/4, step 2500/12500, loss = 1.231\n",
      "epoch 4/4, step 2600/12500, loss = 1.628\n",
      "epoch 4/4, step 2700/12500, loss = 1.25\n",
      "epoch 4/4, step 2800/12500, loss = 1.72\n",
      "epoch 4/4, step 2900/12500, loss = 1.811\n",
      "epoch 4/4, step 3000/12500, loss = 1.22\n",
      "epoch 4/4, step 3100/12500, loss = 1.142\n",
      "epoch 4/4, step 3200/12500, loss = 0.9263\n",
      "epoch 4/4, step 3300/12500, loss = 1.494\n",
      "epoch 4/4, step 3400/12500, loss = 1.392\n",
      "epoch 4/4, step 3500/12500, loss = 1.348\n",
      "epoch 4/4, step 3600/12500, loss = 2.246\n",
      "epoch 4/4, step 3700/12500, loss = 1.416\n",
      "epoch 4/4, step 3800/12500, loss = 1.51\n",
      "epoch 4/4, step 3900/12500, loss = 1.331\n",
      "epoch 4/4, step 4000/12500, loss = 0.9137\n",
      "epoch 4/4, step 4100/12500, loss = 1.577\n",
      "epoch 4/4, step 4200/12500, loss = 1.457\n",
      "epoch 4/4, step 4300/12500, loss = 1.023\n",
      "epoch 4/4, step 4400/12500, loss = 1.14\n",
      "epoch 4/4, step 4500/12500, loss = 1.566\n",
      "epoch 4/4, step 4600/12500, loss = 2.57\n",
      "epoch 4/4, step 4700/12500, loss = 1.863\n",
      "epoch 4/4, step 4800/12500, loss = 3.321\n",
      "epoch 4/4, step 4900/12500, loss = 2.035\n",
      "epoch 4/4, step 5000/12500, loss = 1.668\n",
      "epoch 4/4, step 5100/12500, loss = 1.719\n",
      "epoch 4/4, step 5200/12500, loss = 1.44\n",
      "epoch 4/4, step 5300/12500, loss = 1.793\n",
      "epoch 4/4, step 5400/12500, loss = 0.6737\n",
      "epoch 4/4, step 5500/12500, loss = 1.053\n",
      "epoch 4/4, step 5600/12500, loss = 1.718\n",
      "epoch 4/4, step 5700/12500, loss = 0.946\n",
      "epoch 4/4, step 5800/12500, loss = 1.605\n",
      "epoch 4/4, step 5900/12500, loss = 1.198\n",
      "epoch 4/4, step 6000/12500, loss = 1.835\n",
      "epoch 4/4, step 6100/12500, loss = 1.354\n",
      "epoch 4/4, step 6200/12500, loss = 1.528\n",
      "epoch 4/4, step 6300/12500, loss = 1.204\n",
      "epoch 4/4, step 6400/12500, loss = 0.9973\n",
      "epoch 4/4, step 6500/12500, loss = 1.32\n",
      "epoch 4/4, step 6600/12500, loss = 1.493\n",
      "epoch 4/4, step 6700/12500, loss = 1.011\n",
      "epoch 4/4, step 6800/12500, loss = 1.454\n",
      "epoch 4/4, step 6900/12500, loss = 2.031\n",
      "epoch 4/4, step 7000/12500, loss = 1.159\n",
      "epoch 4/4, step 7100/12500, loss = 0.9352\n",
      "epoch 4/4, step 7200/12500, loss = 1.815\n",
      "epoch 4/4, step 7300/12500, loss = 2.023\n",
      "epoch 4/4, step 7400/12500, loss = 1.016\n",
      "epoch 4/4, step 7500/12500, loss = 2.615\n",
      "epoch 4/4, step 7600/12500, loss = 1.289\n",
      "epoch 4/4, step 7700/12500, loss = 1.051\n",
      "epoch 4/4, step 7800/12500, loss = 1.477\n",
      "epoch 4/4, step 7900/12500, loss = 1.395\n",
      "epoch 4/4, step 8000/12500, loss = 0.8876\n",
      "epoch 4/4, step 8100/12500, loss = 1.467\n",
      "epoch 4/4, step 8200/12500, loss = 1.328\n",
      "epoch 4/4, step 8300/12500, loss = 1.889\n",
      "epoch 4/4, step 8400/12500, loss = 0.9661\n",
      "epoch 4/4, step 8500/12500, loss = 1.336\n",
      "epoch 4/4, step 8600/12500, loss = 1.27\n",
      "epoch 4/4, step 8700/12500, loss = 1.531\n",
      "epoch 4/4, step 8800/12500, loss = 1.493\n",
      "epoch 4/4, step 8900/12500, loss = 2.224\n",
      "epoch 4/4, step 9000/12500, loss = 0.9653\n",
      "epoch 4/4, step 9100/12500, loss = 3.23\n",
      "epoch 4/4, step 9200/12500, loss = 2.129\n",
      "epoch 4/4, step 9300/12500, loss = 1.011\n",
      "epoch 4/4, step 9400/12500, loss = 1.825\n",
      "epoch 4/4, step 9500/12500, loss = 1.429\n",
      "epoch 4/4, step 9600/12500, loss = 2.327\n",
      "epoch 4/4, step 9700/12500, loss = 1.066\n",
      "epoch 4/4, step 9800/12500, loss = 1.728\n",
      "epoch 4/4, step 9900/12500, loss = 1.677\n",
      "epoch 4/4, step 10000/12500, loss = 1.597\n",
      "epoch 4/4, step 10100/12500, loss = 1.044\n",
      "epoch 4/4, step 10200/12500, loss = 1.652\n",
      "epoch 4/4, step 10300/12500, loss = 2.976\n",
      "epoch 4/4, step 10400/12500, loss = 1.054\n",
      "epoch 4/4, step 10500/12500, loss = 1.659\n",
      "epoch 4/4, step 10600/12500, loss = 1.539\n",
      "epoch 4/4, step 10700/12500, loss = 1.918\n",
      "epoch 4/4, step 10800/12500, loss = 1.193\n",
      "epoch 4/4, step 10900/12500, loss = 1.772\n",
      "epoch 4/4, step 11000/12500, loss = 1.207\n",
      "epoch 4/4, step 11100/12500, loss = 1.426\n",
      "epoch 4/4, step 11200/12500, loss = 1.059\n",
      "epoch 4/4, step 11300/12500, loss = 2.067\n",
      "epoch 4/4, step 11400/12500, loss = 1.658\n",
      "epoch 4/4, step 11500/12500, loss = 1.689\n",
      "epoch 4/4, step 11600/12500, loss = 1.336\n",
      "epoch 4/4, step 11700/12500, loss = 1.023\n",
      "epoch 4/4, step 11800/12500, loss = 1.138\n",
      "epoch 4/4, step 11900/12500, loss = 1.664\n",
      "epoch 4/4, step 12000/12500, loss = 1.545\n",
      "epoch 4/4, step 12100/12500, loss = 1.796\n",
      "epoch 4/4, step 12200/12500, loss = 1.42\n",
      "epoch 4/4, step 12300/12500, loss = 1.545\n",
      "epoch 4/4, step 12400/12500, loss = 1.035\n",
      "epoch 4/4, step 12500/12500, loss = 1.614\n",
      "Accuracy = 47.79%\n",
      "accuarcy of plane: 43.3%\n",
      "accuarcy of car: 75.0%\n",
      "accuarcy of bird: 31.9%\n",
      "accuarcy of cat: 33.6%\n",
      "accuarcy of deer: 21.0%\n",
      "accuarcy of dog: 37.8%\n",
      "accuarcy of frog: 66.5%\n",
      "accuarcy of horse: 56.0%\n",
      "accuarcy of ship: 61.4%\n",
      "accuarcy of truck: 51.4%\n"
     ]
    }
   ],
   "source": [
    "# creating conv neural net \n",
    "# making a feed forward neural network\n",
    "import torch \n",
    "import torch.nn as nn\n",
    "import torchvision\n",
    "import torchvision.transforms as transforms\n",
    "import matplotlib.pyplot as plt\n",
    "import torch.nn.functional as F\n",
    "\n",
    "#  device config\n",
    "device = torch.device(\"cuda\" if torch.cuda.is_available() else \"cpu\")\n",
    "\n",
    "# hyper parameters \n",
    "# input_size = 784\n",
    "# hidden_size = 100\n",
    "# num_classes = 10\n",
    "num_epochs = 4\n",
    "batch_size =4\n",
    "learning_rate = 0.001\n",
    "# transform \n",
    "transform = transforms.Compose(\n",
    "    [transforms.ToTensor(),transforms.Normalize((0.5,0.5,0.5),(0.5,0.5,0.5))])\n",
    "\n",
    "# minst\n",
    "train_dataset = torchvision.datasets.CIFAR10(root = \"./data\", train =True, transform = transform, download = True)\n",
    "test_dataset = torchvision.datasets.CIFAR10(root = \"./data\", train = False, transform = transform, download = False)\n",
    "train_loader = torch.utils.data.DataLoader(dataset = train_dataset, batch_size = batch_size, shuffle = True)\n",
    "test_loader = torch.utils.data.DataLoader(dataset= test_dataset, batch_size = batch_size, shuffle = False)\n",
    "classes = (\"plane\",\"car\",\"bird\",\"cat\",\"deer\",\"dog\",\"frog\",\"horse\",\"ship\",\"truck\")\n",
    "\n",
    "# examples = iter(train_loader)\n",
    "# samples, labels = next(examples)\n",
    "# print(samples.size(),labels.shape)\n",
    "\n",
    "# output size from a layer depends upon input(a) ,filter(F), padding(p), stride(s) so output size is (a-f+2p)/s +1\n",
    "# if input is 5x5 and filter is 3x3 and padding = 0, stride = 1\n",
    "# output = (5-3+0)/1 +1 = 3 so output will bw 3x3\n",
    "\n",
    "#  here the input size is [4,3,32,32] meaning input has a batch size of 4 and 3 channels it has 32x32 pixels\n",
    "class ConvNet(nn.Module):\n",
    "    def __init__(self):\n",
    "        super(ConvNet, self).__init__()\n",
    "        self.conv1 = nn.Conv2d(3,6,5)# this layer have 6 filter each have 2 kernals and kernal size is 5x5\n",
    "        '''Each image in the batch goes through 6 filters.\n",
    "Each filter has 3 separate kernels (one for each input channel).\n",
    "Each kernel slides over its corresponding channel, performing element-wise multiplication.\n",
    "The 3 kernel outputs (one per channel) are summed up to form a single feature map.\n",
    "Since we have 6 filters, we get 6 feature maps as output.\n",
    "The spatial dimensions shrink from 32×32 to 28×28 due to the 5×5 kernel.\n",
    "The final output tensor has shape [4,6,28,28].'''\n",
    "        self.pool = nn.MaxPool2d(2,2)\n",
    "        self.conv2 = nn.Conv2d(6,16,5)\n",
    "        self.fc1 = nn.Linear(16*5*5,120)\n",
    "        self.fc2 = nn.Linear(120,84)\n",
    "        self.fc3 = nn.Linear(84,10)\n",
    "        \n",
    "    def forward(self,x):\n",
    "        x = self.pool(F.relu(self.conv1(x)))\n",
    "        x = self.pool(F.relu(self.conv2(x)))\n",
    "        x = x.view(-1,16*5*5)\n",
    "        x = F.relu(self.fc1(x))\n",
    "        x = F.relu(self.fc2(x))\n",
    "        x = self.fc3(x)\n",
    "        return x \n",
    "        \n",
    "model = ConvNet().to(device)\n",
    "criterion = nn.CrossEntropyLoss()\n",
    "optimizer = torch.optim.SGD(model.parameters(),lr = learning_rate)\n",
    "#  training loop \n",
    "n_total_steps = len(train_loader)\n",
    "for epoch in range(num_epochs):\n",
    "    for i, (images, labels) in enumerate(train_loader):\n",
    "        \n",
    "        images = images.to(device)\n",
    "        labels = labels.to(device)\n",
    "        # forward\n",
    "        outputs = model(images)\n",
    "        loss = criterion(outputs,labels)\n",
    "        # backward\n",
    "        optimizer.zero_grad()\n",
    "        loss.backward()\n",
    "        optimizer.step()\n",
    "\n",
    "        if (i+1) % 100 == 0:\n",
    "           print(f'epoch {epoch+1}/{num_epochs}, step {i+1}/{n_total_steps}, loss = {loss.item():.4}')\n",
    "\n",
    "with torch.no_grad():\n",
    "    n_correct = 0\n",
    "    n_samples = 0\n",
    "    n_class_correct = [0 for i in range(10)]\n",
    "    n_class_samples = [0 for i in range(10)]\n",
    "    for images, labels in test_loader:\n",
    "        images = images.to(device)\n",
    "        labels = labels.to(device)\n",
    "        outputs = model(images)\n",
    "        \n",
    "        # value, index\n",
    "        _, predicted = torch.max(outputs, 1)\n",
    "        \n",
    "        # Update totals\n",
    "        n_samples += labels.shape[0]\n",
    "        n_correct += (predicted == labels).sum().item()\n",
    "        for i in range(batch_size):\n",
    "            label = labels[i]\n",
    "            pred = predicted[i]\n",
    "            if (label == pred):\n",
    "                n_class_correct[label] +=1\n",
    "            n_class_samples[label] +=1\n",
    "    acc = 100.0 * n_correct / n_samples\n",
    "    print(f\"Accuracy = {acc:.2f}%\")\n",
    "\n",
    "for i in range(10):\n",
    "    acc = 100.0 * n_class_correct[i] /  n_class_samples[i]\n",
    "    print(f\"accuarcy of {classes[i]}: {acc}%\")"
   ]
  },
  {
   "cell_type": "code",
   "execution_count": null,
   "metadata": {},
   "outputs": [],
   "source": [
    "# # transfer learning \n",
    "# # we can train a model to classify car or bike and retrain the last layer to clasify bees and birds\n",
    "# import torch\n",
    "# import torch.nn as nn\n",
    "# import torch.optim as optim\n",
    "# from torch.optim import lr_scheduler\n",
    "# import numpy as np\n",
    "# import torchvision\n",
    "# from torchvision import datasets, models, transforms\n",
    "# import matplotlib.pyplot as plt\n",
    "# import time \n",
    "# import os\n",
    "# import copy\n",
    "\n",
    "# devie = torch.device(\"cuda\" if torch.cuda.is_available() else \"cpu\")\n",
    "\n",
    "# mean = np.array([0485, 0.456, 0.406])\n",
    "# std =  np.array([0.229,0.224, 0.225])\n",
    "\n",
    "# data_transforms = {\n",
    "#     \"train\": transforms.Compose([transforms.RandomResizedCrop(224),\n",
    "#                                  transforms.RandomHorizontalFlip(),\n",
    "#                                  transforms.ToTensor(),\n",
    "#                                  transform.Normalize(mean,std)\n",
    "#                                 ]),\n",
    "#     \"val\": transforms.Compose([transforms.RandomResizedCrop(224),\n",
    "#                                  transforms.RandomHorizontalFlip(),\n",
    "#                                  transforms.ToTensor(),\n",
    "#                                  transform.Normalize(mean,std)\n",
    "#                               ]),\n",
    "# }\n",
    "# #  import data\n",
    "# #  i am just writing this code because i dont have the data with me \n",
    "# data_dir = \"data/hyauvu\"\n",
    "# sets = [\"train\",\"val\"]\n",
    "# image_datasets = {x: datasets.ImageFolder(os.path.join(data_dir,x),data_transforms[x]) \n",
    "#                  for x in [\"train\", \" val\"]}# to access and easily transform in one go datasets.ImageFolder(root, transform=None)\n",
    "# dataloaders = {x: torch.utils.data.DataLoader(image_datasets[x], batch_size = 4, shuffle = True, num_workers=0) \n",
    "#                for x in [\"train\",\"val\"]} \n",
    "# dataset_sizes = {x:len(image_datasets[x]) for x in [\"train\", \"val\"]}\n",
    "# class_names = image_datasets[\"train\"].classes \n",
    "# print(class_names)"
   ]
  },
  {
   "cell_type": "code",
   "execution_count": null,
   "metadata": {},
   "outputs": [],
   "source": [
    "# def train_model(model, criterion, optimizer, scheduler, num_epochs=25):\n",
    "#     since = time.time()\n",
    "\n",
    "#     best_model_wts = copy.deepcopy(model.state_dict())\n",
    "#     best_acc = 0.0\n",
    "\n",
    "#     for epoch in range(num_epochs):\n",
    "#         print('Epoch {}/{}'.format(epoch, num_epochs - 1))\n",
    "#         print('-' * 10)\n",
    "\n",
    "#         # Each epoch has a training and validation phase\n",
    "#         for phase in ['train', 'val']:\n",
    "#             if phase == 'train':\n",
    "#                 model.train()  # Set model to training mode\n",
    "#             else:\n",
    "#                 model.eval()   # Set model to evaluate mode\n",
    "\n",
    "#             running_loss = 0.0\n",
    "#             running_corrects = 0\n",
    "\n",
    "#             # Iterate over data.\n",
    "#             for inputs, labels in dataloaders[phase]:\n",
    "#                 inputs = inputs.to(device)\n",
    "#                 labels = labels.to(device)\n",
    "\n",
    "#                 # forward\n",
    "#                 # track history if only in train\n",
    "#                 with torch.set_grad_enabled(phase == 'train'):\n",
    "#                     outputs = model(inputs)\n",
    "#                     _, preds = torch.max(outputs, 1)\n",
    "#                     loss = criterion(outputs, labels)\n",
    "\n",
    "#                     # backward + optimize only if in training phase\n",
    "#                     if phase == 'train':\n",
    "#                         optimizer.zero_grad()\n",
    "#                         loss.backward()\n",
    "#                         optimizer.step()\n",
    "\n",
    "#                 # statistics\n",
    "#                 running_loss += loss.item() * inputs.size(0)\n",
    "#                 running_corrects += torch.sum(preds == labels.data)\n",
    "\n",
    "#             if phase == 'train':\n",
    "#                 scheduler.step()\n",
    "\n",
    "#             epoch_loss = running_loss / dataset_sizes[phase]\n",
    "#             epoch_acc = running_corrects.double() / dataset_sizes[phase]\n",
    "\n",
    "#             print('{} Loss: {:.4f} Acc: {:.4f}'.format(\n",
    "#                 phase, epoch_loss, epoch_acc))\n",
    "\n",
    "#             # deep copy the model\n",
    "#             if phase == 'val' and epoch_acc > best_acc:\n",
    "#                 best_acc = epoch_acc\n",
    "#                 best_model_wts = copy.deepcopy(model.state_dict())\n",
    "\n",
    "#         print()\n",
    "\n",
    "#     time_elapsed = time.time() - since\n",
    "#     print('Training complete in {:.0f}m {:.0f}s'.format(\n",
    "#         time_elapsed // 60, time_elapsed % 60))\n",
    "#     print('Best val Acc: {:4f}'.format(best_acc))"
   ]
  },
  {
   "cell_type": "code",
   "execution_count": null,
   "metadata": {},
   "outputs": [],
   "source": [
    "# #### Finetuning the convnet ####\n",
    "# # Load a pretrained model and reset final fully connected layer.\n",
    "\n",
    "# model = models.resnet18(pretrained=True)\n",
    "# num_ftrs = model.fc.in_features\n",
    "# # Here the size of each output sample is set to 2.\n",
    "# # Alternatively, it can be generalized to nn.Linear(num_ftrs, len(class_names)).\n",
    "# model.fc = nn.Linear(num_ftrs, 2)\n",
    "\n",
    "# model = model.to(device)\n",
    "\n",
    "# criterion = nn.CrossEntropyLoss()\n",
    "\n",
    "# # Observe that all parameters are being optimized\n",
    "# optimizer = optim.SGD(model.parameters(), lr=0.001)\n",
    "\n",
    "# # StepLR Decays the learning rate of each parameter group by gamma every step_size epochs\n",
    "# # Decay LR by a factor of 0.1 every 7 epochs\n",
    "# # Learning rate scheduling should be applied after optimizer’s update\n",
    "# # e.g., you should write your code this way:\n",
    "# # for epoch in range(100):\n",
    "# #     train(...)\n",
    "# #     validate(...)\n",
    "# #     scheduler.step()\n",
    "\n",
    "# step_lr_scheduler = lr_scheduler.StepLR(optimizer, step_size=7, gamma=0.1)\n",
    "\n",
    "# model = train_model(model, criterion, optimizer, step_lr_scheduler, num_epochs=25)\n",
    "\n",
    "\n",
    "# #### ConvNet as fixed feature extractor ####\n",
    "# # Here, we need to freeze all the network except the final layer.\n",
    "# # We need to set requires_grad == False to freeze the parameters so that the gradients are not computed in backward()\n",
    "# model_conv = torchvision.models.resnet18(pretrained=True)\n",
    "# for param in model_conv.parameters():\n",
    "#     param.requires_grad = False\n",
    "\n",
    "# # Parameters of newly constructed modules have requires_grad=True by default\n",
    "# num_ftrs = model_conv.fc.in_features\n",
    "# model_conv.fc = nn.Linear(num_ftrs, 2)\n",
    "\n",
    "# model_conv = model_conv.to(device)\n",
    "\n",
    "# criterion = nn.CrossEntropyLoss()\n",
    "\n",
    "# # Observe that only parameters of final layer are being optimized as\n",
    "# # opposed to before.\n",
    "# optimizer_conv = optim.SGD(model_conv.fc.parameters(), lr=0.001, momentum=0.9)\n",
    "\n",
    "# # Decay LR by a factor of 0.1 every 7 epochs\n",
    "# exp_lr_scheduler = lr_scheduler.StepLR(optimizer_conv, step_size=7, gamma=0.1)\n",
    "\n",
    "# model_conv = train_model(model_conv, criterion, optimizer_conv,\n",
    "#                          exp_lr_scheduler, num_epochs=25)"
   ]
  },
  {
   "cell_type": "code",
   "execution_count": 22,
   "metadata": {},
   "outputs": [
    {
     "name": "stdout",
     "output_type": "stream",
     "text": [
      "The tensorboard extension is already loaded. To reload it, use:\n",
      "  %reload_ext tensorboard\n"
     ]
    }
   ],
   "source": [
    "# Load TensorBoard extension for Jupyter Notebook\n",
    "from datetime import datetime \n",
    "%load_ext tensorboard\n",
    "\n",
    "# Create a unique log directory to avoid conflicts\n",
    "log_dir = \"runs/mnist_\" + datetime.now().strftime(\"%Y%m%d-%H%M%S\")\n",
    "writer = SummaryWriter(log_dir)\n"
   ]
  },
  {
   "cell_type": "code",
   "execution_count": 30,
   "metadata": {},
   "outputs": [
    {
     "name": "stdout",
     "output_type": "stream",
     "text": [
      "torch.Size([64, 1, 28, 28]) torch.Size([64])\n",
      "epoch 1/2, step 100/938, loss = 0.3837\n",
      "epoch 1/2, step 200/938, loss = 0.3021\n",
      "epoch 1/2, step 300/938, loss = 0.2258\n",
      "epoch 1/2, step 400/938, loss = 0.1348\n",
      "epoch 1/2, step 500/938, loss = 0.1915\n",
      "epoch 1/2, step 600/938, loss = 0.2757\n",
      "epoch 1/2, step 700/938, loss = 0.0927\n",
      "epoch 1/2, step 800/938, loss = 0.0545\n",
      "epoch 1/2, step 900/938, loss = 0.1046\n",
      "epoch 2/2, step 100/938, loss = 0.0669\n",
      "epoch 2/2, step 200/938, loss = 0.0716\n",
      "epoch 2/2, step 300/938, loss = 0.0379\n",
      "epoch 2/2, step 400/938, loss = 0.0290\n",
      "epoch 2/2, step 500/938, loss = 0.0840\n",
      "epoch 2/2, step 600/938, loss = 0.1613\n",
      "epoch 2/2, step 700/938, loss = 0.1350\n",
      "epoch 2/2, step 800/938, loss = 0.0929\n",
      "epoch 2/2, step 900/938, loss = 0.2171\n",
      "Accuracy = 97.46%\n"
     ]
    },
    {
     "data": {
      "image/png": "[encoded data removed]",
      "text/plain": [
       "<Figure size 640x480 with 6 Axes>"
      ]
     },
     "metadata": {},
     "output_type": "display_data"
    }
   ],
   "source": [
    "# making a feed forward neural network\n",
    "import torch \n",
    "import torch.nn as nn\n",
    "import torchvision\n",
    "import torchvision.transforms as transforms\n",
    "import matplotlib.pyplot as plt\n",
    "from torch.utils.tensorboard import SummaryWriter\n",
    "import sys\n",
    "writer = SummaryWriter(\"runs/mnist\")\n",
    "#  device config\n",
    "device = torch.device(\"cuda\" if torch.cuda.is_available() else \"cpu\")\n",
    "\n",
    "# hyper parameters \n",
    "input_size = 784\n",
    "hidden_size = 500\n",
    "num_classes = 10\n",
    "num_epochs = 2\n",
    "batch_size =64\n",
    "learning_rate = 0.001\n",
    "\n",
    "# minst\n",
    "train_dataset = torchvision.datasets.MNIST(root = \"./data\", train =True, transform = transforms.ToTensor(), download = True)\n",
    "test_dataset = torchvision.datasets.MNIST(root = \"./data\", train = False, transform = transforms.ToTensor())\n",
    "train_loader = torch.utils.data.DataLoader(dataset = train_dataset, batch_size = batch_size, shuffle = True)\n",
    "test_loader = torch.utils.data.DataLoader(dataset= test_dataset, batch_size = batch_size, shuffle = False)\n",
    "\n",
    "examples = iter(train_loader)\n",
    "samples, labels = next(examples)\n",
    "print(samples.size(),labels.shape)\n",
    "\n",
    "for i in range(6):\n",
    "    plt.subplot(2,3,i+1)\n",
    "    plt.imshow(samples[i][0],cmap = \"gray\")\n",
    "# plt.show()\n",
    "img_grid = torchvision.utils.make_grid(samples)\n",
    "writer.add_image(\"mnist_image\", img_grid)\n",
    "writer.close()\n",
    "# sys.exit()\n",
    "\n",
    "class NeuralNet(nn.Module):\n",
    "    def __init__(self,input_size,hidden_size,num_classes):\n",
    "        super(NeuralNet,self).__init__()\n",
    "        self.linear1 = nn.Linear(input_size,hidden_size)\n",
    "        self.relu = nn.ReLU()\n",
    "        self.linear2 = nn.Linear(hidden_size,num_classes)\n",
    "    def forward(self,x):\n",
    "        out = self.linear1(x)\n",
    "        out = self.relu(out)\n",
    "        out = self.linear2(out)\n",
    "        return out \n",
    "        \n",
    "model = NeuralNet(input_size,hidden_size,num_classes)\n",
    "model.to(device)\n",
    "criterion = nn.CrossEntropyLoss()\n",
    "optimizer = torch.optim.Adam(model.parameters(),lr = learning_rate)\n",
    "samples = samples.to(device)\n",
    "writer.add_graph(model, samples.reshape(-1, 28*28))\n",
    "writer.close()\n",
    "# sys.exit()\n",
    "\n",
    "\n",
    "#  training loop \n",
    "n_total_steps = len(train_loader)\n",
    "running_loss = 0.0\n",
    "running_correct = 0\n",
    "batch_size = train_loader.batch_size  # Get batch size dynamically\n",
    "\n",
    "for epoch in range(num_epochs):\n",
    "    for i, (images, labels) in enumerate(train_loader):\n",
    "\n",
    "        images = images.reshape(-1, 28*28).to(device)\n",
    "        labels = labels.to(device)\n",
    "\n",
    "        # Forward\n",
    "        outputs = model(images)\n",
    "        loss = criterion(outputs, labels)\n",
    "\n",
    "        # Backward\n",
    "        optimizer.zero_grad()\n",
    "        loss.backward()\n",
    "        optimizer.step()\n",
    "\n",
    "        running_loss += loss.item()\n",
    "        _, predicted = torch.max(outputs.data, 1)  # Get predictions\n",
    "        running_correct += (predicted == labels).sum().item()  # Count correct predictions\n",
    "\n",
    "        # Log every 100 steps\n",
    "        if (i + 1) % 100 == 0:\n",
    "            print(f'epoch {epoch+1}/{num_epochs}, step {i+1}/{n_total_steps}, loss = {loss.item():.4f}')\n",
    "\n",
    "            writer.add_scalar(\"training loss\", running_loss / 100, epoch * n_total_steps + i)\n",
    "            running_accuracy = running_correct / (100 * batch_size)  # ✅ Correct accuracy calculation\n",
    "            writer.add_scalar(\"accuracy\", running_accuracy, epoch * n_total_steps + i)\n",
    "\n",
    "            # Reset running loss and correct count for next logging interval\n",
    "            running_loss = 0.0\n",
    "            running_correct = 0\n",
    "\n",
    "            \n",
    "with torch.no_grad():\n",
    "    n_correct = 0\n",
    "    n_samples = 0\n",
    "    for images, labels in test_loader:\n",
    "        images = images.reshape(-1, 28*28).to(device)\n",
    "        labels = labels.to(device)\n",
    "        outputs = model(images)\n",
    "        \n",
    "        # value, index\n",
    "        _, predicted = torch.max(outputs, 1)\n",
    "        \n",
    "        # Update totals\n",
    "        n_samples += labels.shape[0]\n",
    "        n_correct += (predicted == labels).sum().item()\n",
    "\n",
    "    acc = 100.0 * n_correct / n_samples\n",
    "    print(f\"Accuracy = {acc:.2f}%\")"
   ]
  },
  {
   "cell_type": "code",
   "execution_count": 24,
   "metadata": {},
   "outputs": [
    {
     "data": {
      "text/plain": [
       "tensor([[ -7.7697,   5.4145,  -3.2154,  -1.0246,  -5.0071,  -9.7359,  -7.4430,\n",
       "           0.4890,  -2.4342,  -5.1512],\n",
       "        [ -6.7906,  -1.1680,   9.0384,   2.0006, -17.4761,  -8.1463, -15.0140,\n",
       "          -0.2048,   0.7796,  -6.9645],\n",
       "        [ -8.9091,  -4.6189,   0.4966,   6.8220, -16.2527,  -2.6915, -17.4786,\n",
       "          -6.2825,   0.7402,  -3.2451],\n",
       "        [ -9.0834,  -9.5313,  -5.5198,  -6.8558,  11.5520,  -6.2931,  -5.3191,\n",
       "          -2.2397,  -2.4007,   0.9939],\n",
       "        [ -6.5265,  -9.9933, -10.2689,   1.0187,  -8.8871,  10.7741, -12.4940,\n",
       "         -10.3786,  -1.3112,  -4.8622],\n",
       "        [ -2.1357,  -8.2540,   1.2573,  -3.8730,  -2.0739,  -1.6866,  11.7585,\n",
       "         -11.3157,  -4.4694, -12.7137],\n",
       "        [ -6.3331,  -4.9699,   2.4999,   2.6198, -13.1311, -11.1928, -18.8531,\n",
       "           9.8988,  -2.4841,  -2.9238],\n",
       "        [ -0.7374, -10.0532,  -0.8336,   3.4233, -12.2419,  -3.0842, -10.6804,\n",
       "          -6.1248,   7.5527,  -6.0853],\n",
       "        [ -3.8302, -12.2052,  -3.0111,  -6.3443,   4.2233,  -6.5423,  -6.3165,\n",
       "          -1.2342,  -3.7394,   6.0171],\n",
       "        [  8.7170, -13.8930,  -0.5944,  -4.2019,  -7.8578,  -2.2099,   1.1044,\n",
       "         -10.7347,   3.6039,  -3.8483],\n",
       "        [ -7.5813,   5.6718,  -1.4253,  -4.7273,  -4.6271,  -7.6672,  -3.7258,\n",
       "          -2.6159,  -2.0033,  -8.9804],\n",
       "        [ -9.4993,   2.0779,  11.6232,   3.0185, -20.2900,  -7.3601, -16.3040,\n",
       "          -1.7871,   0.1241, -12.3778],\n",
       "        [ -9.9427,  -3.5380,  -0.6418,  11.1017, -17.6691,   1.5252, -19.2110,\n",
       "          -6.8115,  -3.3633,  -1.9714],\n",
       "        [ -8.2921, -10.7286,  -8.1772,  -4.9477,   9.6480,  -7.6147,  -5.1593,\n",
       "          -1.0291,  -0.1038,   1.8040],\n",
       "        [ -3.2653,  -8.0084,  -9.0457,  -2.7746,  -6.1450,   9.1992,  -2.7751,\n",
       "          -5.2743,   0.7720,  -8.8854],\n",
       "        [ -2.2752,  -8.7905,  -1.4391,  -6.2768,  -0.7120,  -0.4874,  12.6221,\n",
       "         -10.2233,  -7.1925,  -8.8088]], device='cuda:0')"
      ]
     },
     "execution_count": 24,
     "metadata": {},
     "output_type": "execute_result"
    }
   ],
   "source": [
    "outputs"
   ]
  },
  {
   "cell_type": "code",
   "execution_count": 25,
   "metadata": {},
   "outputs": [
    {
     "data": {
      "text/plain": [
       "tensor([[ -7.7697,   5.4145,  -3.2154,  -1.0246,  -5.0071,  -9.7359,  -7.4430,\n",
       "           0.4890,  -2.4342,  -5.1512],\n",
       "        [ -6.7906,  -1.1680,   9.0384,   2.0006, -17.4761,  -8.1463, -15.0140,\n",
       "          -0.2048,   0.7796,  -6.9645],\n",
       "        [ -8.9091,  -4.6189,   0.4966,   6.8220, -16.2527,  -2.6915, -17.4786,\n",
       "          -6.2825,   0.7402,  -3.2451],\n",
       "        [ -9.0834,  -9.5313,  -5.5198,  -6.8558,  11.5520,  -6.2931,  -5.3191,\n",
       "          -2.2397,  -2.4007,   0.9939],\n",
       "        [ -6.5265,  -9.9933, -10.2689,   1.0187,  -8.8871,  10.7741, -12.4940,\n",
       "         -10.3786,  -1.3112,  -4.8622],\n",
       "        [ -2.1357,  -8.2540,   1.2573,  -3.8730,  -2.0739,  -1.6866,  11.7585,\n",
       "         -11.3157,  -4.4694, -12.7137],\n",
       "        [ -6.3331,  -4.9699,   2.4999,   2.6198, -13.1311, -11.1928, -18.8531,\n",
       "           9.8988,  -2.4841,  -2.9238],\n",
       "        [ -0.7374, -10.0532,  -0.8336,   3.4233, -12.2419,  -3.0842, -10.6804,\n",
       "          -6.1248,   7.5527,  -6.0853],\n",
       "        [ -3.8302, -12.2052,  -3.0111,  -6.3443,   4.2233,  -6.5423,  -6.3165,\n",
       "          -1.2342,  -3.7394,   6.0171],\n",
       "        [  8.7170, -13.8930,  -0.5944,  -4.2019,  -7.8578,  -2.2099,   1.1044,\n",
       "         -10.7347,   3.6039,  -3.8483],\n",
       "        [ -7.5813,   5.6718,  -1.4253,  -4.7273,  -4.6271,  -7.6672,  -3.7258,\n",
       "          -2.6159,  -2.0033,  -8.9804],\n",
       "        [ -9.4993,   2.0779,  11.6232,   3.0185, -20.2900,  -7.3601, -16.3040,\n",
       "          -1.7871,   0.1241, -12.3778],\n",
       "        [ -9.9427,  -3.5380,  -0.6418,  11.1017, -17.6691,   1.5252, -19.2110,\n",
       "          -6.8115,  -3.3633,  -1.9714],\n",
       "        [ -8.2921, -10.7286,  -8.1772,  -4.9477,   9.6480,  -7.6147,  -5.1593,\n",
       "          -1.0291,  -0.1038,   1.8040],\n",
       "        [ -3.2653,  -8.0084,  -9.0457,  -2.7746,  -6.1450,   9.1992,  -2.7751,\n",
       "          -5.2743,   0.7720,  -8.8854],\n",
       "        [ -2.2752,  -8.7905,  -1.4391,  -6.2768,  -0.7120,  -0.4874,  12.6221,\n",
       "         -10.2233,  -7.1925,  -8.8088]], device='cuda:0')"
      ]
     },
     "execution_count": 25,
     "metadata": {},
     "output_type": "execute_result"
    }
   ],
   "source": [
    "outputs.data"
   ]
  },
  {
   "cell_type": "code",
   "execution_count": null,
   "metadata": {},
   "outputs": [],
   "source": []
  },
  {
   "cell_type": "code",
   "execution_count": null,
   "metadata": {},
   "outputs": [],
   "source": [
    "\n"
   ]
  },
  {
   "cell_type": "code",
   "execution_count": null,
   "metadata": {},
   "outputs": [],
   "source": [
    "\n"
   ]
  },
  {
   "cell_type": "code",
   "execution_count": null,
   "metadata": {},
   "outputs": [],
   "source": []
  },
  {
   "cell_type": "code",
   "execution_count": null,
   "metadata": {},
   "outputs": [],
   "source": []
  },
  {
   "cell_type": "code",
   "execution_count": 31,
   "metadata": {},
   "outputs": [
    {
     "data": {
      "text/plain": [
       "Reusing TensorBoard on port 6006 (pid 25314), started 2 days, 2:23:59 ago. (Use '!kill 25314' to kill it.)"
      ]
     },
     "metadata": {},
     "output_type": "display_data"
    },
    {
     "data": {
      "text/html": [
       "\n",
       "      <iframe id=\"tensorboard-frame-1406c676ab4a2a6e\" width=\"100%\" height=\"800\" frameborder=\"0\">\n",
       "      </iframe>\n",
       "      <script>\n",
       "        (function() {\n",
       "          const frame = document.getElementById(\"tensorboard-frame-1406c676ab4a2a6e\");\n",
       "          const url = new URL(\"/\", window.location);\n",
       "          const port = 6006;\n",
       "          if (port) {\n",
       "            url.port = port;\n",
       "          }\n",
       "          frame.src = url;\n",
       "        })();\n",
       "      </script>\n",
       "    "
      ],
      "text/plain": [
       "<IPython.core.display.HTML object>"
      ]
     },
     "metadata": {},
     "output_type": "display_data"
    }
   ],
   "source": [
    "%tensorboard --logdir runs\n"
   ]
  },
  {
   "cell_type": "markdown",
   "metadata": {},
   "source": [
    "## model save"
   ]
  },
  {
   "cell_type": "code",
   "execution_count": 32,
   "metadata": {},
   "outputs": [
    {
     "ename": "NameError",
     "evalue": "name 'PATH' is not defined",
     "output_type": "error",
     "traceback": [
      "\u001b[0;31m---------------------------------------------------------------------------\u001b[0m",
      "\u001b[0;31mNameError\u001b[0m                                 Traceback (most recent call last)",
      "Cell \u001b[0;32mIn[32], line 5\u001b[0m\n\u001b[1;32m      2\u001b[0m \u001b[38;5;28;01mimport\u001b[39;00m \u001b[38;5;21;01mtorch\u001b[39;00m\u001b[38;5;21;01m.\u001b[39;00m\u001b[38;5;21;01mnn\u001b[39;00m \u001b[38;5;28;01mas\u001b[39;00m \u001b[38;5;21;01mnn\u001b[39;00m\n\u001b[1;32m      3\u001b[0m \u001b[38;5;66;03m#  LAZY OPTION\u001b[39;00m\n\u001b[1;32m      4\u001b[0m \u001b[38;5;66;03m#  TO SAVE\u001b[39;00m\n\u001b[0;32m----> 5\u001b[0m torch\u001b[38;5;241m.\u001b[39msave(model, \u001b[43mPATH\u001b[49m)\n\u001b[1;32m      7\u001b[0m \u001b[38;5;66;03m# TO LOAD A MODEL \u001b[39;00m\n\u001b[1;32m      8\u001b[0m model \u001b[38;5;241m=\u001b[39m torch\u001b[38;5;241m.\u001b[39mload(PATH)\n",
      "\u001b[0;31mNameError\u001b[0m: name 'PATH' is not defined"
     ]
    }
   ],
   "source": [
    "import torch\n",
    "import torch.nn as nn\n",
    "#  LAZY OPTION\n",
    "#  TO SAVE\n",
    "torch.save(model, PATH)\n",
    "\n",
    "# TO LOAD A MODEL \n",
    "model = torch.load(PATH)\n",
    "model.eval()\n",
    "\n",
    "#  recommended method\n",
    "# save a state \n",
    "torch.save(model.state_dict(),path)\n",
    "# model must be created again with parameters\n",
    "model = model(*agrs,**kwargs)\n",
    "model.load_state_dict(torch.load(PATH))\n",
    "model.eval()\n"
   ]
  },
  {
   "cell_type": "code",
   "execution_count": null,
   "metadata": {},
   "outputs": [],
   "source": []
  }
 ],
 "metadata": {
  "kernelspec": {
   "display_name": "Python 3 (ipykernel)",
   "language": "python",
   "name": "python3"
  },
  "language_info": {
   "codemirror_mode": {
    "name": "ipython",
    "version": 3
   },
   "file_extension": ".py",
   "mimetype": "text/x-python",
   "name": "python",
   "nbconvert_exporter": "python",
   "pygments_lexer": "ipython3",
   "version": "3.12.2"
  }
 },
 "nbformat": 4,
 "nbformat_minor": 4
}
